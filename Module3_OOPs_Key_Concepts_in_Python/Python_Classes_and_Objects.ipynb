{
  "nbformat": 4,
  "nbformat_minor": 0,
  "metadata": {
    "colab": {
      "name": "Python_Classes_and_Objects.ipynb",
      "version": "0.3.2",
      "provenance": [],
      "collapsed_sections": []
    },
    "kernelspec": {
      "name": "python3",
      "display_name": "Python 3"
    }
  },
  "cells": [
    {
      "cell_type": "markdown",
      "metadata": {
        "id": "JzFvD8Bd9nFX",
        "colab_type": "text"
      },
      "source": [
        "#Python Classes and Objects\n",
        "\n",
        "Python is an object oriented programming language.\n",
        "\n",
        "Almost everything in Python is an object, with its properties and methods.\n",
        "\n",
        "**A Class is like an object constructor, or a \"blueprint\" for creating objects**.\n",
        "\n",
        "---\n",
        "\n"
      ]
    },
    {
      "cell_type": "markdown",
      "metadata": {
        "id": "H6cjOtT0-BZ6",
        "colab_type": "text"
      },
      "source": [
        "**Create a Class**\n",
        "\n",
        "To create a class, use the keyword **class**"
      ]
    },
    {
      "cell_type": "code",
      "metadata": {
        "id": "1tVImzlV9dbD",
        "colab_type": "code",
        "outputId": "f76f1f65-c6d1-4f67-bd7e-0fcbd3130ca9",
        "colab": {
          "base_uri": "https://localhost:8080/",
          "height": 34
        }
      },
      "source": [
        "class MyClass:\n",
        "  x = 5\n",
        "print(MyClass)"
      ],
      "execution_count": 0,
      "outputs": [
        {
          "output_type": "stream",
          "text": [
            "<class '__main__.MyClass'>\n"
          ],
          "name": "stdout"
        }
      ]
    },
    {
      "cell_type": "markdown",
      "metadata": {
        "id": "VdUyoRXR-xMN",
        "colab_type": "text"
      },
      "source": [
        "**Create Object**\n",
        "\n",
        "Now we can use the class named myClass to create objects:\n",
        "\n",
        "---\n",
        "\n",
        "Create an object named p1, and print the value of x:"
      ]
    },
    {
      "cell_type": "code",
      "metadata": {
        "id": "SL-fC2A3-0cU",
        "colab_type": "code",
        "outputId": "df6c302c-6277-4089-ab6d-d9a9874ee692",
        "colab": {
          "base_uri": "https://localhost:8080/",
          "height": 34
        }
      },
      "source": [
        "p1 = MyClass()\n",
        "\n",
        "print(p1.x)"
      ],
      "execution_count": 0,
      "outputs": [
        {
          "output_type": "stream",
          "text": [
            "5\n"
          ],
          "name": "stdout"
        }
      ]
    },
    {
      "cell_type": "markdown",
      "metadata": {
        "id": "Ndo_QCbl_Jih",
        "colab_type": "text"
      },
      "source": [
        "#The __init__() Function\n",
        "\n",
        "The examples above are classes and objects in their simplest form, and are not really useful in real life applications.\n",
        "\n",
        "To understand the meaning of classes we have to understand the built-in __init__() function.\n",
        "\n",
        "All classes have a function called __init__(), which is always executed when the class is being initiated.\n",
        "\n",
        "Use the __init__() function to assign values to object properties, or other operations that are necessary to do when the object is being created:\n",
        "\n",
        "---\n",
        "\n",
        "Create a class named Person, use the __init__() function to assign values for name and age:"
      ]
    },
    {
      "cell_type": "code",
      "metadata": {
        "id": "v-O70-xt_frQ",
        "colab_type": "code",
        "outputId": "e9c8d591-c49c-43a4-efed-70c8a548f137",
        "colab": {
          "base_uri": "https://localhost:8080/",
          "height": 51
        }
      },
      "source": [
        "class Person:\n",
        "  def __init__(self, name, age):\n",
        "    self.name = name\n",
        "    self.age = age\n",
        "    \n",
        "p1 = Person(\"John\", 36)\n",
        "\n",
        "print(p1.name)\n",
        "print(p1.age)\n",
        "\n"
      ],
      "execution_count": 0,
      "outputs": [
        {
          "output_type": "stream",
          "text": [
            "John\n",
            "36\n"
          ],
          "name": "stdout"
        }
      ]
    },
    {
      "cell_type": "markdown",
      "metadata": {
        "id": "0l3x2IbrCWCE",
        "colab_type": "text"
      },
      "source": [
        "Note: The __init__() function is called automatically every time the class is being used to create a new object."
      ]
    },
    {
      "cell_type": "markdown",
      "metadata": {
        "id": "tEbFbIyyCYbh",
        "colab_type": "text"
      },
      "source": [
        "#Object Methods\n",
        "\n",
        "**Objects can also contain methods. Methods in objects are functions that belongs to the object.**\n",
        "\n",
        "Let us create a method in the Person class:\n",
        "\n",
        "---\n",
        "\n",
        "Insert a function that prints a greeting, and execute it on the p1 object:"
      ]
    },
    {
      "cell_type": "code",
      "metadata": {
        "id": "piTrVT6YDCFV",
        "colab_type": "code",
        "outputId": "e8cd3b37-b1d7-44fb-a203-aebfb7853130",
        "colab": {
          "base_uri": "https://localhost:8080/",
          "height": 34
        }
      },
      "source": [
        "class Person:\n",
        "  def __init__(self, name, age):\n",
        "    self.name = name\n",
        "    self.age = age\n",
        "    \n",
        "  def myfunc(self):\n",
        "    print(\"Hello my name is \" + self.name)\n",
        "    \n",
        "p1 = Person(\"John\", 36)\n",
        "\n",
        "p1.myfunc()"
      ],
      "execution_count": 0,
      "outputs": [
        {
          "output_type": "stream",
          "text": [
            "Hello my name is John\n"
          ],
          "name": "stdout"
        }
      ]
    },
    {
      "cell_type": "markdown",
      "metadata": {
        "id": "MSRuaIJyEzzu",
        "colab_type": "text"
      },
      "source": [
        "Note: The self parameter is a reference to the class instance itself, and is used to access variables that belongs to the class."
      ]
    },
    {
      "cell_type": "markdown",
      "metadata": {
        "id": "miElVqvZE0qh",
        "colab_type": "text"
      },
      "source": [
        "#The self Parameter\n",
        "\n",
        "**The self parameter is a reference to the class itself, and is used to access variables that belongs to the class.**\n",
        "\n",
        "It does not have to be named self , you can call it whatever you like, but it has to be the first parameter of any function in the class:\n",
        "\n",
        "---\n",
        "\n",
        "Use the words mysillyobject and abc instead of self:"
      ]
    },
    {
      "cell_type": "code",
      "metadata": {
        "id": "YvxqyTk0FTvO",
        "colab_type": "code",
        "outputId": "fd9d157f-5122-4f15-a22d-4c77bcf12e20",
        "colab": {
          "base_uri": "https://localhost:8080/",
          "height": 34
        }
      },
      "source": [
        "class Person:\n",
        "  def __init__(mysillyobject, name, age):\n",
        "    mysillyobject.name = name\n",
        "    mysillyobject.age = age\n",
        "\n",
        "  def myfunc(abc):\n",
        "    print(\"Hello my name is \" + abc.name)\n",
        "\n",
        "p1 = Person(\"John\", 36)\n",
        "p1.myfunc()"
      ],
      "execution_count": 0,
      "outputs": [
        {
          "output_type": "stream",
          "text": [
            "Hello my name is John\n"
          ],
          "name": "stdout"
        }
      ]
    },
    {
      "cell_type": "markdown",
      "metadata": {
        "id": "KkqNSanmFyGI",
        "colab_type": "text"
      },
      "source": [
        "**Modify Object Properties**\n",
        "\n",
        "You can modify properties on objects like this:"
      ]
    },
    {
      "cell_type": "code",
      "metadata": {
        "id": "o7uAA_f0F0Cb",
        "colab_type": "code",
        "outputId": "c53af698-5764-47f8-98bd-cce6d4388d4d",
        "colab": {
          "base_uri": "https://localhost:8080/",
          "height": 34
        }
      },
      "source": [
        "p1.age = 40\n",
        "print(p1.age)"
      ],
      "execution_count": 0,
      "outputs": [
        {
          "output_type": "stream",
          "text": [
            "40\n"
          ],
          "name": "stdout"
        }
      ]
    },
    {
      "cell_type": "markdown",
      "metadata": {
        "id": "SO5s9vBdIXdL",
        "colab_type": "text"
      },
      "source": [
        "**Delete Object Properties**\n",
        "\n",
        "You can delete properties on objects by using the del keyword:\n",
        "\n",
        "---\n",
        "\n",
        "Delete the age property from the p1 object:"
      ]
    },
    {
      "cell_type": "code",
      "metadata": {
        "id": "Sof-1A-8IaJg",
        "colab_type": "code",
        "outputId": "2d3a1a57-122f-4c07-8106-783a7c3a112a",
        "colab": {
          "base_uri": "https://localhost:8080/",
          "height": 180
        }
      },
      "source": [
        "del p1.age\n",
        "prnit(p1.age)"
      ],
      "execution_count": 0,
      "outputs": [
        {
          "output_type": "error",
          "ename": "NameError",
          "evalue": "ignored",
          "traceback": [
            "\u001b[0;31m---------------------------------------------------------------------------\u001b[0m",
            "\u001b[0;31mNameError\u001b[0m                                 Traceback (most recent call last)",
            "\u001b[0;32m<ipython-input-12-403236cdc3a5>\u001b[0m in \u001b[0;36m<module>\u001b[0;34m()\u001b[0m\n\u001b[1;32m      1\u001b[0m \u001b[0;32mdel\u001b[0m \u001b[0mp1\u001b[0m\u001b[0;34m.\u001b[0m\u001b[0mage\u001b[0m\u001b[0;34m\u001b[0m\u001b[0;34m\u001b[0m\u001b[0m\n\u001b[0;32m----> 2\u001b[0;31m \u001b[0mprnit\u001b[0m\u001b[0;34m(\u001b[0m\u001b[0mp1\u001b[0m\u001b[0;34m.\u001b[0m\u001b[0mage\u001b[0m\u001b[0;34m)\u001b[0m\u001b[0;34m\u001b[0m\u001b[0;34m\u001b[0m\u001b[0m\n\u001b[0m",
            "\u001b[0;31mNameError\u001b[0m: name 'prnit' is not defined"
          ]
        }
      ]
    },
    {
      "cell_type": "markdown",
      "metadata": {
        "id": "Y22EEjV8Ix_O",
        "colab_type": "text"
      },
      "source": [
        "**Delete Objects**\n",
        "\n",
        "You can delete objects by using the del keyword:\n",
        "\n",
        "---\n",
        "\n",
        "Delete the p1 object:"
      ]
    },
    {
      "cell_type": "code",
      "metadata": {
        "id": "bieiOdDeI5Ol",
        "colab_type": "code",
        "outputId": "5550617e-05b9-4afa-c1f4-fbc024c070f7",
        "colab": {
          "base_uri": "https://localhost:8080/",
          "height": 180
        }
      },
      "source": [
        "del p1\n",
        "print(p1)"
      ],
      "execution_count": 0,
      "outputs": [
        {
          "output_type": "error",
          "ename": "NameError",
          "evalue": "ignored",
          "traceback": [
            "\u001b[0;31m---------------------------------------------------------------------------\u001b[0m",
            "\u001b[0;31mNameError\u001b[0m                                 Traceback (most recent call last)",
            "\u001b[0;32m<ipython-input-13-514dc63e5972>\u001b[0m in \u001b[0;36m<module>\u001b[0;34m()\u001b[0m\n\u001b[1;32m      1\u001b[0m \u001b[0;32mdel\u001b[0m \u001b[0mp1\u001b[0m\u001b[0;34m\u001b[0m\u001b[0;34m\u001b[0m\u001b[0m\n\u001b[0;32m----> 2\u001b[0;31m \u001b[0mprint\u001b[0m\u001b[0;34m(\u001b[0m\u001b[0mp1\u001b[0m\u001b[0;34m)\u001b[0m\u001b[0;34m\u001b[0m\u001b[0;34m\u001b[0m\u001b[0m\n\u001b[0m",
            "\u001b[0;31mNameError\u001b[0m: name 'p1' is not defined"
          ]
        }
      ]
    }
  ]
}