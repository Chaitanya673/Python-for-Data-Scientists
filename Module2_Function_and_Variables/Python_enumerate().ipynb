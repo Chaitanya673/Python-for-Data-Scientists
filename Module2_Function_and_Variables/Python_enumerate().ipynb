{
  "nbformat": 4,
  "nbformat_minor": 0,
  "metadata": {
    "colab": {
      "name": "Python enumerate().ipynb",
      "version": "0.3.2",
      "provenance": [],
      "collapsed_sections": []
    },
    "kernelspec": {
      "name": "python3",
      "display_name": "Python 3"
    }
  },
  "cells": [
    {
      "cell_type": "markdown",
      "metadata": {
        "id": "TpFRfzx4SPw_",
        "colab_type": "text"
      },
      "source": [
        "#Python enumerate()\n",
        "\n",
        "The enumerate() method adds counter to an iterable and returns it (the enumerate object).\n",
        "\n",
        "---\n",
        "\n",
        "**The syntax of enumerate() is:**\n",
        "\n",
        "enumerate(iterable, start=0)\n",
        "\n",
        "---\n",
        "\n",
        "**enumerate() Parameters**\n",
        "\n",
        "The enumerate() method takes two parameters:\n",
        "\n",
        "iterable - a sequence, an iterator, or objects that supports iteration\n",
        "\n",
        "start (optional) - enumerate() starts counting from this number. If start is omitted, 0 is taken as start.\n",
        "\n",
        "---\n",
        "\n",
        "**Return Value from enumerate()**\n",
        "\n",
        "The enumerate() method adds counter to an iterable and returns it. The returned object is a enumerate object.\n",
        "\n",
        "---\n",
        "\n",
        "Example1: How enumerate() works in Python?"
      ]
    },
    {
      "cell_type": "code",
      "metadata": {
        "id": "0Iga3_CgSIhe",
        "colab_type": "code",
        "outputId": "7dd583f2-40b0-4132-b706-e2ef32ee935e",
        "colab": {
          "base_uri": "https://localhost:8080/",
          "height": 68
        }
      },
      "source": [
        "grocery = ['bread', 'milk', 'butter']\n",
        "enumerateGrocery = enumerate(grocery)\n",
        "\n",
        "print(type(enumerateGrocery))\n",
        "\n",
        "# converting to list\n",
        "print(list(enumerateGrocery))\n",
        "\n",
        "# changing the default counter\n",
        "enumerateGrocery = enumerate(grocery, 10)\n",
        "print(list(enumerateGrocery))"
      ],
      "execution_count": 0,
      "outputs": [
        {
          "output_type": "stream",
          "text": [
            "<class 'enumerate'>\n",
            "[(0, 'bread'), (1, 'milk'), (2, 'butter')]\n",
            "[(10, 'bread'), (11, 'milk'), (12, 'butter')]\n"
          ],
          "name": "stdout"
        }
      ]
    },
    {
      "cell_type": "markdown",
      "metadata": {
        "id": "A8pkzQ4lTDtu",
        "colab_type": "text"
      },
      "source": [
        "**Example 2: Looping Over an Enumerate object**\n",
        "\n",
        "---\n"
      ]
    },
    {
      "cell_type": "code",
      "metadata": {
        "id": "I9ti2oEuTOuT",
        "colab_type": "code",
        "outputId": "25a33c24-f94c-49ab-ff8d-f549ce199ef8",
        "colab": {
          "base_uri": "https://localhost:8080/",
          "height": 238
        }
      },
      "source": [
        "grocery = ['bread', 'milk', 'butter']\n",
        "\n",
        "for item in enumerate(grocery):\n",
        "  print(item)\n",
        "\n",
        "print('\\n')\n",
        "for count, item in enumerate(grocery):\n",
        "  print(count, item)\n",
        "\n",
        "print('\\n')\n",
        "# changing default start value\n",
        "for count, item in enumerate(grocery, 100):\n",
        "  print(count, item)"
      ],
      "execution_count": 0,
      "outputs": [
        {
          "output_type": "stream",
          "text": [
            "(0, 'bread')\n",
            "(1, 'milk')\n",
            "(2, 'butter')\n",
            "\n",
            "\n",
            "0 bread\n",
            "1 milk\n",
            "2 butter\n",
            "\n",
            "\n",
            "100 bread\n",
            "101 milk\n",
            "102 butter\n"
          ],
          "name": "stdout"
        }
      ]
    }
  ]
}