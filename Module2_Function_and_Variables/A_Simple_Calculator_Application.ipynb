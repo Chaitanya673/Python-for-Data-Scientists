{
  "nbformat": 4,
  "nbformat_minor": 0,
  "metadata": {
    "colab": {
      "name": "A_Simple_Calculator_Application.ipynb",
      "version": "0.3.2",
      "provenance": []
    },
    "kernelspec": {
      "name": "python3",
      "display_name": "Python 3"
    }
  },
  "cells": [
    {
      "cell_type": "markdown",
      "metadata": {
        "id": "U3nxqxtH6UQt",
        "colab_type": "text"
      },
      "source": [
        "## Python Program To Create A Simple Calculator Application\n",
        "\n",
        "---\n",
        "\n",
        "\n",
        "In this example, you will learn to create a simple calculator that can add, subtract, multiply or divide depending upon the input from the user."
      ]
    },
    {
      "cell_type": "code",
      "metadata": {
        "id": "N0xGRW7Q5xsN",
        "colab_type": "code",
        "colab": {
          "base_uri": "https://localhost:8080/",
          "height": 170
        },
        "outputId": "0e4fe91c-f0ce-44c0-df75-0a261b9dfd48"
      },
      "source": [
        "# Program make a simple calculator that can add, subtract, multiply and divide using functions\n",
        " \n",
        "# This function adds two numbers \n",
        "def add(x, y):\n",
        "   return x + y\n",
        " \n",
        "# This function subtracts two numbers \n",
        "def subtract(x, y):\n",
        "   return x - y\n",
        " \n",
        "# This function multiplies two numbers\n",
        "def multiply(x, y):\n",
        "   return x * y\n",
        " \n",
        "# This function divides two numbers\n",
        "def divide(x, y):\n",
        "   return x / y\n",
        " \n",
        "print(\"Select operation.\")\n",
        "print(\"1.Add\")\n",
        "print(\"2.Subtract\")\n",
        "print(\"3.Multiply\")\n",
        "print(\"4.Divide\")\n",
        " \n",
        "# Take input from the user \n",
        "choice = input(\"Enter choice(1/2/3/4):\")\n",
        " \n",
        "num1 = int(input(\"Enter first number: \"))\n",
        "num2 = int(input(\"Enter second number: \"))\n",
        " \n",
        "if choice == '1':\n",
        "   print(num1,\"+\",num2,\"=\", add(num1,num2))\n",
        " \n",
        "elif choice == '2':\n",
        "   print(num1,\"-\",num2,\"=\", subtract(num1,num2))\n",
        " \n",
        "elif choice == '3':\n",
        "   print(num1,\"*\",num2,\"=\", multiply(num1,num2))\n",
        " \n",
        "elif choice == '4':\n",
        "   print(num1,\"/\",num2,\"=\", divide(num1,num2))\n",
        "else:\n",
        "   print(\"Invalid input\")"
      ],
      "execution_count": 1,
      "outputs": [
        {
          "output_type": "stream",
          "text": [
            "Select operation.\n",
            "1.Add\n",
            "2.Subtract\n",
            "3.Multiply\n",
            "4.Divide\n",
            "Enter choice(1/2/3/4):1\n",
            "Enter first number: 4\n",
            "Enter second number: 5\n",
            "4 + 5 = 9\n"
          ],
          "name": "stdout"
        }
      ]
    }
  ]
}