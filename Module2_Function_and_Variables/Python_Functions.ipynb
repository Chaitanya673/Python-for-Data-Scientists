{
  "nbformat": 4,
  "nbformat_minor": 0,
  "metadata": {
    "colab": {
      "name": "Python_Functions.ipynb",
      "version": "0.3.2",
      "provenance": []
    },
    "kernelspec": {
      "name": "python3",
      "display_name": "Python 3"
    }
  },
  "cells": [
    {
      "cell_type": "markdown",
      "metadata": {
        "id": "TEg7R2UZgN0J",
        "colab_type": "text"
      },
      "source": [
        "# Function and Variable in Python:\n",
        "\n",
        "---\n",
        "\n",
        "A function is **a block of organized, reusable code** that is used to perform single and related action. It is **only runs when it is called**.\n",
        "\n",
        "You can **pass data, known as parameters**, into a function.\n",
        "\n",
        "A function can **return data as a result**.\n",
        "\n",
        "---\n",
        "**Return Statement** : The return statement terminates the execution of function and returns control to the calling function "
      ]
    },
    {
      "cell_type": "markdown",
      "metadata": {
        "id": "DzitMpq6ghwS",
        "colab_type": "text"
      },
      "source": [
        "**Creating a Function**\n",
        "\n",
        "In Python a function is defined using the def keyword:"
      ]
    },
    {
      "cell_type": "code",
      "metadata": {
        "id": "p4RsU-zNQUFm",
        "colab_type": "code",
        "colab": {}
      },
      "source": [
        "def my_function():\n",
        "  print(\"Hello from a function\")"
      ],
      "execution_count": 0,
      "outputs": []
    },
    {
      "cell_type": "markdown",
      "metadata": {
        "id": "rXWNZ7v2guN8",
        "colab_type": "text"
      },
      "source": [
        "**Calling a Function**\n",
        "\n",
        "To call a function, use the function name followed by parenthesis:"
      ]
    },
    {
      "cell_type": "code",
      "metadata": {
        "id": "qaTt-W5egqpV",
        "colab_type": "code",
        "colab": {
          "base_uri": "https://localhost:8080/",
          "height": 34
        },
        "outputId": "3f28237a-f89d-4f5d-a16a-b0e40acd7441"
      },
      "source": [
        "def my_function():\n",
        "  print(\"Hello from a function\")\n",
        "  \n",
        "my_function()"
      ],
      "execution_count": 2,
      "outputs": [
        {
          "output_type": "stream",
          "text": [
            "Hello from a function\n"
          ],
          "name": "stdout"
        }
      ]
    },
    {
      "cell_type": "markdown",
      "metadata": {
        "id": "nWrz2WYbg-Nn",
        "colab_type": "text"
      },
      "source": [
        "#Parameters\n",
        "\n",
        "**Information can be passed to functions as parameter.**\n",
        "\n",
        "Parameters are specified after the **function name, inside the parentheses ( )**. **You can add as many parameters as you want, just separate them with a comma ( , )**.\n",
        " \n",
        "The following example has a function with one parameter (fname). When the function is called, we pass along a first name, which is used inside the function to print the full name:\n"
      ]
    },
    {
      "cell_type": "code",
      "metadata": {
        "id": "QRpnEoVQg3G9",
        "colab_type": "code",
        "colab": {
          "base_uri": "https://localhost:8080/",
          "height": 68
        },
        "outputId": "de6e4071-16ba-4b86-e866-e104ddf4a675"
      },
      "source": [
        "def my_function(fname):\n",
        "  print(fname + \"Refense\")\n",
        "\n",
        "my_function(\"Emil\")\n",
        "my_function(\"Tobias\")\n",
        "my_function(\"Linus\")"
      ],
      "execution_count": 3,
      "outputs": [
        {
          "output_type": "stream",
          "text": [
            "EmilRefense\n",
            "TobiasRefense\n",
            "LinusRefense\n"
          ],
          "name": "stdout"
        }
      ]
    },
    {
      "cell_type": "markdown",
      "metadata": {
        "id": "khMrLSlAhQgr",
        "colab_type": "text"
      },
      "source": [
        "# Python Built-in Functions:"
      ]
    },
    {
      "cell_type": "markdown",
      "metadata": {
        "id": "aWgvzDexhTca",
        "colab_type": "text"
      },
      "source": [
        "## abs() Function:\n",
        "\n",
        "---\n",
        "\n",
        "Parameters\n",
        "\n",
        " The abs() method takes a single argument:\n",
        "\n",
        "num – A number whose absolute value is to be returned. The number can be:\n",
        "* integer\n",
        "* floating number\n",
        "* complex number"
      ]
    },
    {
      "cell_type": "code",
      "metadata": {
        "id": "8uKT0RxDhKDM",
        "colab_type": "code",
        "colab": {
          "base_uri": "https://localhost:8080/",
          "height": 34
        },
        "outputId": "3693e890-3052-46e2-df44-15a4a2ee67af"
      },
      "source": [
        "# random integer\n",
        "integer = -20\n",
        "print('Absolute value of -20 is:', abs(integer))"
      ],
      "execution_count": 4,
      "outputs": [
        {
          "output_type": "stream",
          "text": [
            "Absolute value of -20 is: 20\n"
          ],
          "name": "stdout"
        }
      ]
    },
    {
      "cell_type": "code",
      "metadata": {
        "id": "w6gmDgAehm0o",
        "colab_type": "code",
        "colab": {
          "base_uri": "https://localhost:8080/",
          "height": 34
        },
        "outputId": "10d38919-38e5-4767-f9ef-b925014b4f06"
      },
      "source": [
        "#random floating number\n",
        "floating = -30.33\n",
        "print('Absolute value of -30.33 is:', abs(floating))"
      ],
      "execution_count": 5,
      "outputs": [
        {
          "output_type": "stream",
          "text": [
            "Absolute value of -30.33 is: 30.33\n"
          ],
          "name": "stdout"
        }
      ]
    },
    {
      "cell_type": "markdown",
      "metadata": {
        "id": "2nbL4XuviKnJ",
        "colab_type": "text"
      },
      "source": [
        "## all() Function:"
      ]
    },
    {
      "cell_type": "code",
      "metadata": {
        "id": "DbTOlgLwhnok",
        "colab_type": "code",
        "colab": {
          "base_uri": "https://localhost:8080/",
          "height": 102
        },
        "outputId": "8b94b196-ea52-4345-eafe-505bb2b22f68"
      },
      "source": [
        "# all values true\n",
        "l = [1, 3, 4, 5]\n",
        "print(all(l))\n",
        " \n",
        "# all values false\n",
        "l = [0, False]\n",
        "print(all(l))\n",
        " \n",
        "# one false value\n",
        "l = [1, 3, 4, 0]\n",
        "print(all(l))\n",
        " \n",
        "# one true value\n",
        "l = [0, False, 5]\n",
        "print(all(l))\n",
        " \n",
        "# empty iterable\n",
        "l = []\n",
        "print(all(l))"
      ],
      "execution_count": 6,
      "outputs": [
        {
          "output_type": "stream",
          "text": [
            "True\n",
            "False\n",
            "False\n",
            "False\n",
            "True\n"
          ],
          "name": "stdout"
        }
      ]
    },
    {
      "cell_type": "markdown",
      "metadata": {
        "id": "3ymGfjs2ieGD",
        "colab_type": "text"
      },
      "source": [
        "## ascii() Function:"
      ]
    },
    {
      "cell_type": "code",
      "metadata": {
        "id": "v1m4NjNbiOZ4",
        "colab_type": "code",
        "colab": {
          "base_uri": "https://localhost:8080/",
          "height": 68
        },
        "outputId": "b19b74c3-53c3-4dff-8eb7-aec3894ebde2"
      },
      "source": [
        "normalText = 'Python is interesting'\n",
        "print(ascii(normalText))\n",
        " \n",
        "otherText = 'Python is interesting'\n",
        "print(ascii(otherText))\n",
        " \n",
        "print('Pythn is interesting')"
      ],
      "execution_count": 8,
      "outputs": [
        {
          "output_type": "stream",
          "text": [
            "'Python is interesting'\n",
            "'Python is interesting'\n",
            "Pythn is interesting\n"
          ],
          "name": "stdout"
        }
      ]
    },
    {
      "cell_type": "markdown",
      "metadata": {
        "id": "ZVZFgsbri6Zr",
        "colab_type": "text"
      },
      "source": [
        "## bin() Function:"
      ]
    },
    {
      "cell_type": "code",
      "metadata": {
        "id": "TjpnGMpQilDA",
        "colab_type": "code",
        "colab": {
          "base_uri": "https://localhost:8080/",
          "height": 34
        },
        "outputId": "07ab0f46-2a3c-4705-ebb7-79a66494c578"
      },
      "source": [
        "number = 5\n",
        "print('The binary equivalent of 5 is:', bin(number))"
      ],
      "execution_count": 9,
      "outputs": [
        {
          "output_type": "stream",
          "text": [
            "The binary equivalent of 5 is: 0b101\n"
          ],
          "name": "stdout"
        }
      ]
    },
    {
      "cell_type": "markdown",
      "metadata": {
        "id": "AAu9wfGzjTYb",
        "colab_type": "text"
      },
      "source": [
        "## bool() Function:"
      ]
    },
    {
      "cell_type": "code",
      "metadata": {
        "id": "lWssriYgi-At",
        "colab_type": "code",
        "colab": {
          "base_uri": "https://localhost:8080/",
          "height": 119
        },
        "outputId": "4622f139-1105-476a-c164-4b71b89cf49d"
      },
      "source": [
        "test = []\n",
        "print(test,'is',bool(test))\n",
        " \n",
        "test = [0]\n",
        "print(test,'is',bool(test))\n",
        " \n",
        "test = 0.0\n",
        "print(test,'is',bool(test))\n",
        " \n",
        "test = None\n",
        "print(test,'is',bool(test))\n",
        " \n",
        "test = True\n",
        "print(test,'is',bool(test))\n",
        " \n",
        "test = 'Easy string'\n",
        "print(test,'is',bool(test))"
      ],
      "execution_count": 10,
      "outputs": [
        {
          "output_type": "stream",
          "text": [
            "[] is False\n",
            "[0] is True\n",
            "0.0 is False\n",
            "None is False\n",
            "True is True\n",
            "Easy string is True\n"
          ],
          "name": "stdout"
        }
      ]
    },
    {
      "cell_type": "markdown",
      "metadata": {
        "id": "rojj1aNXjzcu",
        "colab_type": "text"
      },
      "source": [
        "## compile() Function:"
      ]
    },
    {
      "cell_type": "code",
      "metadata": {
        "id": "9klPv59GjW-5",
        "colab_type": "code",
        "colab": {
          "base_uri": "https://localhost:8080/",
          "height": 34
        },
        "outputId": "28c59ac8-4f71-457e-acfd-18e2b9b250d8"
      },
      "source": [
        "codeInString = 'a = 5'\n",
        "b=6\n",
        "sum=a+b\n",
        "print(\"sum =\", sum)\n",
        "\n",
        "codeObejct = compile(codeInString, 'sumstring', 'exec')\n",
        " \n",
        "exec(codeObejct)"
      ],
      "execution_count": 17,
      "outputs": [
        {
          "output_type": "stream",
          "text": [
            "sum = 11\n"
          ],
          "name": "stdout"
        }
      ]
    },
    {
      "cell_type": "markdown",
      "metadata": {
        "id": "UM_9WHEzkgVv",
        "colab_type": "text"
      },
      "source": [
        "## dict() Function:"
      ]
    },
    {
      "cell_type": "code",
      "metadata": {
        "id": "xFhqYl2ij3Ge",
        "colab_type": "code",
        "colab": {
          "base_uri": "https://localhost:8080/",
          "height": 85
        },
        "outputId": "1de77772-8c1f-4c4b-fcd2-2e1b7308832e"
      },
      "source": [
        "numbers = dict(x=5, y=0)\n",
        "print('numbers = ',numbers)\n",
        "print(type(numbers))\n",
        " \n",
        "empty = dict()\n",
        "print('empty = ',empty)\n",
        "print(type(empty))"
      ],
      "execution_count": 18,
      "outputs": [
        {
          "output_type": "stream",
          "text": [
            "numbers =  {'x': 5, 'y': 0}\n",
            "<class 'dict'>\n",
            "empty =  {}\n",
            "<class 'dict'>\n"
          ],
          "name": "stdout"
        }
      ]
    },
    {
      "cell_type": "markdown",
      "metadata": {
        "id": "yAkR_Yojk5Eh",
        "colab_type": "text"
      },
      "source": [
        "## enumerate() Function:"
      ]
    },
    {
      "cell_type": "code",
      "metadata": {
        "id": "3-ZquCxzkiha",
        "colab_type": "code",
        "colab": {
          "base_uri": "https://localhost:8080/",
          "height": 68
        },
        "outputId": "a6da799d-c7e9-4240-c9d2-3fd232650fa0"
      },
      "source": [
        "grocery = ['bread', 'milk', 'butter']\n",
        "enumerateGrocery = enumerate(grocery)\n",
        " \n",
        "print(type(enumerateGrocery))\n",
        " \n",
        "# converting to list\n",
        "print(list(enumerateGrocery))\n",
        " \n",
        "# changing the default counter\n",
        "enumerateGrocery = enumerate(grocery, 10)\n",
        "print(list(enumerateGrocery))"
      ],
      "execution_count": 19,
      "outputs": [
        {
          "output_type": "stream",
          "text": [
            "<class 'enumerate'>\n",
            "[(0, 'bread'), (1, 'milk'), (2, 'butter')]\n",
            "[(10, 'bread'), (11, 'milk'), (12, 'butter')]\n"
          ],
          "name": "stdout"
        }
      ]
    },
    {
      "cell_type": "markdown",
      "metadata": {
        "id": "-zRB7Jh9lM1R",
        "colab_type": "text"
      },
      "source": [
        "## eval() Function:"
      ]
    },
    {
      "cell_type": "code",
      "metadata": {
        "id": "dyUXpZoUk8az",
        "colab_type": "code",
        "colab": {
          "base_uri": "https://localhost:8080/",
          "height": 34
        },
        "outputId": "ad4443d0-8a37-4c29-fec6-6b17c850f2ac"
      },
      "source": [
        "x = 1\n",
        "y = eval('x + 1')\n",
        "print(y)"
      ],
      "execution_count": 30,
      "outputs": [
        {
          "output_type": "stream",
          "text": [
            "2\n"
          ],
          "name": "stdout"
        }
      ]
    },
    {
      "cell_type": "markdown",
      "metadata": {
        "id": "DtYUP_qdmeXF",
        "colab_type": "text"
      },
      "source": [
        "## filter() Function:"
      ]
    },
    {
      "cell_type": "code",
      "metadata": {
        "id": "O3ho1I_nlR7s",
        "colab_type": "code",
        "colab": {
          "base_uri": "https://localhost:8080/",
          "height": 102
        },
        "outputId": "88f9b6d6-a1f4-4d94-dae6-f14d96495c57"
      },
      "source": [
        "# list of alphabets\n",
        "alphabets = ['a', 'b', 'd', 'e', 'i', 'j', 'o']\n",
        " \n",
        "# function that filters vowels\n",
        "def filterVowels(alphabet):\n",
        "    vowels = ['a', 'e', 'i', 'o', 'u']\n",
        " \n",
        "    if(alphabet in vowels):\n",
        "        return True\n",
        "    else:\n",
        "        return False\n",
        " \n",
        "filteredVowels = filter(filterVowels, alphabets)\n",
        " \n",
        "print('The filtered vowels are:')\n",
        "for vowel in filteredVowels:\n",
        "    print(vowel)"
      ],
      "execution_count": 31,
      "outputs": [
        {
          "output_type": "stream",
          "text": [
            "The filtered vowels are:\n",
            "a\n",
            "e\n",
            "i\n",
            "o\n"
          ],
          "name": "stdout"
        }
      ]
    },
    {
      "cell_type": "markdown",
      "metadata": {
        "id": "wSSmHTCgm2za",
        "colab_type": "text"
      },
      "source": [
        "## getattr() Function:"
      ]
    },
    {
      "cell_type": "code",
      "metadata": {
        "id": "t4M316EJmjLS",
        "colab_type": "code",
        "colab": {
          "base_uri": "https://localhost:8080/",
          "height": 51
        },
        "outputId": "9dc58db5-c807-4fb7-ddcc-365e70c5652f"
      },
      "source": [
        "class Person:\n",
        "    age = 23\n",
        "    name = \"Adam\"\n",
        " \n",
        "person = Person()\n",
        "print('The age is:', getattr(person, \"age\"))\n",
        "print('The age is:', person.age)"
      ],
      "execution_count": 32,
      "outputs": [
        {
          "output_type": "stream",
          "text": [
            "The age is: 23\n",
            "The age is: 23\n"
          ],
          "name": "stdout"
        }
      ]
    },
    {
      "cell_type": "markdown",
      "metadata": {
        "id": "hUzSa_jvnIV_",
        "colab_type": "text"
      },
      "source": [
        "## help() Function:"
      ]
    },
    {
      "cell_type": "code",
      "metadata": {
        "id": "tIAFWGBOm678",
        "colab_type": "code",
        "colab": {
          "base_uri": "https://localhost:8080/",
          "height": 221
        },
        "outputId": "27f2141d-cd68-49b2-b43c-30d45d092c7c"
      },
      "source": [
        "help('print')"
      ],
      "execution_count": 33,
      "outputs": [
        {
          "output_type": "stream",
          "text": [
            "Help on built-in function print in module builtins:\n",
            "\n",
            "print(...)\n",
            "    print(value, ..., sep=' ', end='\\n', file=sys.stdout, flush=False)\n",
            "    \n",
            "    Prints the values to a stream, or to sys.stdout by default.\n",
            "    Optional keyword arguments:\n",
            "    file:  a file-like object (stream); defaults to the current sys.stdout.\n",
            "    sep:   string inserted between values, default a space.\n",
            "    end:   string appended after the last value, default a newline.\n",
            "    flush: whether to forcibly flush the stream.\n",
            "\n"
          ],
          "name": "stdout"
        }
      ]
    },
    {
      "cell_type": "markdown",
      "metadata": {
        "id": "z3qIgfSUnZrG",
        "colab_type": "text"
      },
      "source": [
        "## id() Function:"
      ]
    },
    {
      "cell_type": "code",
      "metadata": {
        "id": "d8s7nYgknUp4",
        "colab_type": "code",
        "colab": {
          "base_uri": "https://localhost:8080/",
          "height": 34
        },
        "outputId": "de497865-4a6b-4939-b605-63e91431511a"
      },
      "source": [
        "class Foo:\n",
        "    b = 5\n",
        " \n",
        "dummyFoo = Foo()\n",
        "print('id of dummyFoo =',id(dummyFoo))"
      ],
      "execution_count": 34,
      "outputs": [
        {
          "output_type": "stream",
          "text": [
            "id of dummyFoo = 139903010423192\n"
          ],
          "name": "stdout"
        }
      ]
    },
    {
      "cell_type": "markdown",
      "metadata": {
        "id": "I38Y1aFWn7bs",
        "colab_type": "text"
      },
      "source": [
        "## len() Function:"
      ]
    },
    {
      "cell_type": "code",
      "metadata": {
        "id": "f3_Ql0ySnkQ4",
        "colab_type": "code",
        "colab": {
          "base_uri": "https://localhost:8080/",
          "height": 85
        },
        "outputId": "db967cfc-9481-4f1e-dfcb-c9efb8d01fd7"
      },
      "source": [
        "testList = []\n",
        "print(testList, 'length is', len(testList))\n",
        " \n",
        "testList = [1, 2, 3]\n",
        "print(testList, 'length is', len(testList))\n",
        " \n",
        "testTuple = (1, 2, 3)\n",
        "print(testTuple, 'length is', len(testTuple))\n",
        " \n",
        "testRange = range(1, 10)\n",
        "print('Length of', testRange, 'is', len(testRange))"
      ],
      "execution_count": 35,
      "outputs": [
        {
          "output_type": "stream",
          "text": [
            "[] length is 0\n",
            "[1, 2, 3] length is 3\n",
            "(1, 2, 3) length is 3\n",
            "Length of range(1, 10) is 9\n"
          ],
          "name": "stdout"
        }
      ]
    },
    {
      "cell_type": "markdown",
      "metadata": {
        "id": "rvIYapjDn-B-",
        "colab_type": "text"
      },
      "source": [
        "## max() Function:"
      ]
    },
    {
      "cell_type": "code",
      "metadata": {
        "id": "B1PSCVRpn66L",
        "colab_type": "code",
        "colab": {
          "base_uri": "https://localhost:8080/",
          "height": 51
        },
        "outputId": "b9d71102-a69b-4ef9-9e72-1bc31fe06e7e"
      },
      "source": [
        "# using max(arg1, arg2, *args)\n",
        "print('Maximum is:', max(1, 3, 2, 5, 4))\n",
        " \n",
        "# using max(iterable)\n",
        "num = [1, 3, 2, 8, 5, 10, 6]\n",
        "print('Maximum is:', max(num))"
      ],
      "execution_count": 36,
      "outputs": [
        {
          "output_type": "stream",
          "text": [
            "Maximum is: 5\n",
            "Maximum is: 10\n"
          ],
          "name": "stdout"
        }
      ]
    },
    {
      "cell_type": "markdown",
      "metadata": {
        "id": "sRc5LDDGo5IH",
        "colab_type": "text"
      },
      "source": [
        "## min() Function:"
      ]
    },
    {
      "cell_type": "code",
      "metadata": {
        "id": "rVZwrrvgo06S",
        "colab_type": "code",
        "colab": {
          "base_uri": "https://localhost:8080/",
          "height": 51
        },
        "outputId": "7b60a457-d327-4eea-e7f7-95e5693a743a"
      },
      "source": [
        "# using min(arg1, arg2, *args)\n",
        "print('Minimum is:', min(1, 3, 2, 5, 4))\n",
        " \n",
        "# using min(iterable)\n",
        "num = [3, 2, 8, 5, 10, 6]\n",
        "print('Minimum is:', min(num))"
      ],
      "execution_count": 38,
      "outputs": [
        {
          "output_type": "stream",
          "text": [
            "Minimum is: 1\n",
            "Minimum is: 2\n"
          ],
          "name": "stdout"
        }
      ]
    },
    {
      "cell_type": "markdown",
      "metadata": {
        "id": "6hhhO1_ypbbx",
        "colab_type": "text"
      },
      "source": [
        "## oct() Function:"
      ]
    },
    {
      "cell_type": "code",
      "metadata": {
        "id": "YROg-RW_pXqc",
        "colab_type": "code",
        "colab": {
          "base_uri": "https://localhost:8080/",
          "height": 68
        },
        "outputId": "ed9157ed-4812-4b1a-fed0-a51e8c11c280"
      },
      "source": [
        "# decimal number\n",
        "print('oct(10) is:', oct(10))\n",
        " \n",
        "# binary number\n",
        "print('oct(0b101) is:', oct(0b101))\n",
        " \n",
        "# hexadecimal number\n",
        "print('oct(0XA) is:', oct(0XA))"
      ],
      "execution_count": 39,
      "outputs": [
        {
          "output_type": "stream",
          "text": [
            "oct(10) is: 0o12\n",
            "oct(0b101) is: 0o5\n",
            "oct(0XA) is: 0o12\n"
          ],
          "name": "stdout"
        }
      ]
    },
    {
      "cell_type": "markdown",
      "metadata": {
        "id": "cB1Cju7sqDGI",
        "colab_type": "text"
      },
      "source": [
        "## pow() Function:"
      ]
    },
    {
      "cell_type": "code",
      "metadata": {
        "id": "5NHBOhXZpsSt",
        "colab_type": "code",
        "colab": {
          "base_uri": "https://localhost:8080/",
          "height": 85
        },
        "outputId": "bbd2f58b-86c9-4d88-8af3-ba5deea43740"
      },
      "source": [
        "# positive x, positive y (x**y)\n",
        "print(pow(2, 2))\n",
        " \n",
        "# negative x, positive y\n",
        "print(pow(-2, 2))\n",
        " \n",
        "# positive x, negative y (x**-y)\n",
        "print(pow(2, -2))\n",
        " \n",
        "# negative x, negative y\n",
        "print(pow(-2, -2))"
      ],
      "execution_count": 40,
      "outputs": [
        {
          "output_type": "stream",
          "text": [
            "4\n",
            "4\n",
            "0.25\n",
            "0.25\n"
          ],
          "name": "stdout"
        }
      ]
    },
    {
      "cell_type": "markdown",
      "metadata": {
        "id": "gUi0uP2LqHSE",
        "colab_type": "text"
      },
      "source": [
        "## reversed() Function:"
      ]
    },
    {
      "cell_type": "code",
      "metadata": {
        "id": "QZLNtHziqYv-",
        "colab_type": "code",
        "colab": {
          "base_uri": "https://localhost:8080/",
          "height": 85
        },
        "outputId": "9d6543bc-e8e2-423e-a31f-a42b964c45c3"
      },
      "source": [
        "# for string\n",
        "seqString = 'Python'\n",
        "print(list(reversed(seqString)))\n",
        " \n",
        "# for tuple\n",
        "seqTuple = ('P', 'y', 't', 'h', 'o', 'n')\n",
        "print(list(reversed(seqTuple)))\n",
        " \n",
        "# for range\n",
        "seqRange = range(5, 9)\n",
        "print(list(reversed(seqRange)))\n",
        " \n",
        "# for list\n",
        "seqList = [1, 2, 4, 3, 5]\n",
        "print(list(reversed(seqList)))"
      ],
      "execution_count": 41,
      "outputs": [
        {
          "output_type": "stream",
          "text": [
            "['n', 'o', 'h', 't', 'y', 'P']\n",
            "['n', 'o', 'h', 't', 'y', 'P']\n",
            "[8, 7, 6, 5]\n",
            "[5, 3, 4, 2, 1]\n"
          ],
          "name": "stdout"
        }
      ]
    },
    {
      "cell_type": "markdown",
      "metadata": {
        "id": "HQ05ArQoqqCe",
        "colab_type": "text"
      },
      "source": [
        "## sum() Function:"
      ]
    },
    {
      "cell_type": "code",
      "metadata": {
        "id": "ZEAoks7mqCag",
        "colab_type": "code",
        "colab": {}
      },
      "source": [
        "numbers = [2.5, 3, 4, -5]\n",
        " \n",
        "# start parameter is not provided\n",
        "numbersSum = sum(numbers)\n",
        "print(numbersSum)\n",
        " \n",
        "# start = 10\n",
        "numbersSum = sum(numbers, 10)\n",
        "print(numbersSum)"
      ],
      "execution_count": 0,
      "outputs": []
    },
    {
      "cell_type": "markdown",
      "metadata": {
        "id": "XVMQ8NPGtEUg",
        "colab_type": "text"
      },
      "source": [
        "## Type () Function:"
      ]
    },
    {
      "cell_type": "code",
      "metadata": {
        "id": "jVSnEBVxqpgt",
        "colab_type": "code",
        "colab": {
          "base_uri": "https://localhost:8080/",
          "height": 68
        },
        "outputId": "94cb27f7-2053-43f8-f270-a6716d4dfc8b"
      },
      "source": [
        "numberList = [1, 2]\n",
        "print(type(numberList))\n",
        " \n",
        "numberDict = {1: 'one', 2: 'two'}\n",
        "print(type(numberDict))\n",
        " \n",
        "class Foo:\n",
        "    a = 0\n",
        " \n",
        "InstanceOfFoo = Foo()\n",
        "print(type(InstanceOfFoo))"
      ],
      "execution_count": 55,
      "outputs": [
        {
          "output_type": "stream",
          "text": [
            "<class 'list'>\n",
            "<class 'dict'>\n",
            "<class '__main__.Foo'>\n"
          ],
          "name": "stdout"
        }
      ]
    },
    {
      "cell_type": "markdown",
      "metadata": {
        "id": "V3wvXghqtYvc",
        "colab_type": "text"
      },
      "source": [
        "## recursive function"
      ]
    },
    {
      "cell_type": "code",
      "metadata": {
        "id": "LYkZ5e69tHef",
        "colab_type": "code",
        "colab": {
          "base_uri": "https://localhost:8080/",
          "height": 34
        },
        "outputId": "90331db9-20b2-466d-bf7d-3153be11c9d5"
      },
      "source": [
        "# An example of a recursive function to\n",
        "# find the factorial of a number\n",
        " \n",
        "def calc_factorial(x):\n",
        "    \"\"\"This is a recursive function\n",
        "    to find the factorial of an integer\"\"\"\n",
        " \n",
        "    if x == 1:\n",
        "        return 1\n",
        "    else:\n",
        "        return (x * calc_factorial(x-1))\n",
        " \n",
        "num = 4\n",
        "print(\"The factorial of\", num, \"is\", calc_factorial(num)) "
      ],
      "execution_count": 59,
      "outputs": [
        {
          "output_type": "stream",
          "text": [
            "The factorial of 4 is 24\n"
          ],
          "name": "stdout"
        }
      ]
    },
    {
      "cell_type": "markdown",
      "metadata": {
        "id": "5nuENlEo4CvB",
        "colab_type": "text"
      },
      "source": [
        "## Lambda Function:"
      ]
    },
    {
      "cell_type": "code",
      "metadata": {
        "id": "T7_-B3_itfVU",
        "colab_type": "code",
        "colab": {
          "base_uri": "https://localhost:8080/",
          "height": 34
        },
        "outputId": "db202294-97ca-4e46-aec5-c69bb71abfcd"
      },
      "source": [
        "# Program to show the use of lambda functions\n",
        " \n",
        "double = lambda x: x * 2\n",
        " \n",
        "# Output: 10\n",
        "print(double(5))"
      ],
      "execution_count": 58,
      "outputs": [
        {
          "output_type": "stream",
          "text": [
            "10\n"
          ],
          "name": "stdout"
        }
      ]
    },
    {
      "cell_type": "markdown",
      "metadata": {
        "id": "SHGGGM4S496U",
        "colab_type": "text"
      },
      "source": [
        "## User Define Function:"
      ]
    },
    {
      "cell_type": "code",
      "metadata": {
        "id": "RHU0QVeg4G2D",
        "colab_type": "code",
        "colab": {
          "base_uri": "https://localhost:8080/",
          "height": 34
        },
        "outputId": "91c33c51-8423-48d9-eb8e-84ce06f45085"
      },
      "source": [
        "# Program to illustrate\n",
        "# the use of user-defined functions\n",
        " \n",
        "def add_numbers(x,y):\n",
        "   sum = x + y\n",
        "   return sum\n",
        " \n",
        "num1 = 5\n",
        "num2 = 6\n",
        " \n",
        "print(\"The sum is\", add_numbers(num1, num2))"
      ],
      "execution_count": 60,
      "outputs": [
        {
          "output_type": "stream",
          "text": [
            "The sum is 11\n"
          ],
          "name": "stdout"
        }
      ]
    }
  ]
}