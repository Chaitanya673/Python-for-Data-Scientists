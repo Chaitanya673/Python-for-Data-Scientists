{
  "nbformat": 4,
  "nbformat_minor": 0,
  "metadata": {
    "colab": {
      "name": "List_Comprehensions.ipynb",
      "version": "0.3.2",
      "provenance": [],
      "collapsed_sections": []
    },
    "kernelspec": {
      "name": "python3",
      "display_name": "Python 3"
    }
  },
  "cells": [
    {
      "cell_type": "markdown",
      "metadata": {
        "id": "DUYt-w03sz_o",
        "colab_type": "text"
      },
      "source": [
        "#List Comprehensions\n",
        "\n",
        "**List comprehensions provide a concise way to create lists. **\n",
        "\n",
        "It consists of brackets containing an expression followed by a for clause, then\n",
        "zero or more for or if clauses. The expressions can be anything, meaning you can\n",
        "put in all kinds of objects in lists.\n",
        "\n",
        "The result will be a new list resulting from evaluating the expression in the\n",
        "context of the for and if clauses which follow it. \n",
        "\n",
        "The list comprehension always returns a result list. \n",
        "\n",
        "---\n",
        "\n",
        "A list comprehension generally consist of these parts :\n",
        "   Output expression, \n",
        "\n",
        "*   Input sequence, \n",
        "*   A variable representing member of input sequence and\n",
        "*   An optional predicate part.\n",
        "\n",
        "---"
      ]
    },
    {
      "cell_type": "markdown",
      "metadata": {
        "id": "lyFkG1AA0alu",
        "colab_type": "text"
      },
      "source": [
        "**Syntax**\n",
        "\n",
        "The list comprehension starts with a '[' and ']', to help you remember that the\n",
        "result is going to be a list.\n",
        "\n",
        "The basic syntax is:\n",
        "[ **expression** for item in list* if conditional* ]"
      ]
    },
    {
      "cell_type": "markdown",
      "metadata": {
        "id": "MASwMCUN0yxV",
        "colab_type": "text"
      },
      "source": [
        "**Above syntax is equivalent to:**\n",
        "\n",
        "for item in list:\n",
        "   \n",
        "      if conditional:\n",
        "        \n",
        "        expression"
      ]
    },
    {
      "cell_type": "markdown",
      "metadata": {
        "id": "c7AcXF491Qln",
        "colab_type": "text"
      },
      "source": [
        "**Let's break this down and see what it does:**\n",
        "\n",
        "new_list = [**expression(i)** for i in old_list* if filter(i)*]"
      ]
    },
    {
      "cell_type": "markdown",
      "metadata": {
        "id": "kRlmlWcM1dYj",
        "colab_type": "text"
      },
      "source": [
        "**new_list **   \n",
        "The new list (result).\n",
        "\n",
        "**expression(i)**\n",
        "\n",
        "Expression is based on the variable used for each element in the old list.\n",
        "\n",
        "**for i in old_list**\n",
        "\n",
        "The word for followed by the variable name to use, followed by the word in the\n",
        "old list.\n",
        "\n",
        "**if filter(i)**\n",
        "\n",
        "Apply a filter with an If-statement.\n",
        "\n",
        "---\n",
        "\n"
      ]
    },
    {
      "cell_type": "code",
      "metadata": {
        "id": "pXVWCBbKuNHs",
        "colab_type": "code",
        "outputId": "0b9b5577-72f9-4c37-e1ee-37159c55e3ed",
        "colab": {
          "base_uri": "https://localhost:8080/",
          "height": 34
        }
      },
      "source": [
        "list  =  [x ** 2  for x in range (1, 11)   if  x % 2 == 1]\n",
        "print(list)"
      ],
      "execution_count": 0,
      "outputs": [
        {
          "output_type": "stream",
          "text": [
            "[1, 9, 25, 49, 81]\n"
          ],
          "name": "stdout"
        }
      ]
    },
    {
      "cell_type": "markdown",
      "metadata": {
        "id": "9yn_bBjQv9rn",
        "colab_type": "text"
      },
      "source": [
        "**What are List Comprehensions?**\n",
        "\n",
        "First of all, let’s define our terms. A list comprehension is a piece of syntactic sugar that replaces the following pattern:"
      ]
    },
    {
      "cell_type": "code",
      "metadata": {
        "id": "5Z_MQdAawGed",
        "colab_type": "code",
        "outputId": "8f39782f-6fcf-4433-8a52-75d67a40721b",
        "colab": {
          "base_uri": "https://localhost:8080/",
          "height": 34
        }
      },
      "source": [
        "# create list by using for loop\n",
        "\n",
        "some_list = []\n",
        "\n",
        "for i in range(10):\n",
        "  some_list.append((i))\n",
        "print(some_list)"
      ],
      "execution_count": 0,
      "outputs": [
        {
          "output_type": "stream",
          "text": [
            "[0, 1, 2, 3, 4, 5, 6, 7, 8, 9]\n"
          ],
          "name": "stdout"
        }
      ]
    },
    {
      "cell_type": "code",
      "metadata": {
        "id": "YIp9MgOUwjH5",
        "colab_type": "code",
        "outputId": "751f5d15-5578-4e1d-dcfc-248bbd0f1805",
        "colab": {
          "base_uri": "https://localhost:8080/",
          "height": 34
        }
      },
      "source": [
        "# create list by list comprehension\n",
        "some_list = [(i) for i in range (10)]\n",
        "print(some_list)"
      ],
      "execution_count": 0,
      "outputs": [
        {
          "output_type": "stream",
          "text": [
            "[0, 1, 2, 3, 4, 5, 6, 7, 8, 9]\n"
          ],
          "name": "stdout"
        }
      ]
    },
    {
      "cell_type": "markdown",
      "metadata": {
        "id": "72phLL2J0Q-l",
        "colab_type": "text"
      },
      "source": [
        "Example: # You can either use loops:\n",
        "\n",
        "---\n",
        "\n"
      ]
    },
    {
      "cell_type": "code",
      "metadata": {
        "id": "ynKZjJlb2Jat",
        "colab_type": "code",
        "outputId": "2a944e2e-939b-43df-99b2-4172f8470a4f",
        "colab": {
          "base_uri": "https://localhost:8080/",
          "height": 34
        }
      },
      "source": [
        "Square = []\n",
        "\n",
        "for i in range(10):\n",
        "  Square.append(i**2)\n",
        " \n",
        "print(Square)"
      ],
      "execution_count": 0,
      "outputs": [
        {
          "output_type": "stream",
          "text": [
            "[0, 1, 4, 9, 16, 25, 36, 49, 64, 81]\n"
          ],
          "name": "stdout"
        }
      ]
    },
    {
      "cell_type": "markdown",
      "metadata": {
        "id": "C7NGqp2U2l5c",
        "colab_type": "text"
      },
      "source": [
        "Above code can be write using list comprehension:"
      ]
    },
    {
      "cell_type": "code",
      "metadata": {
        "id": "VW5JjC6Z2r-5",
        "colab_type": "code",
        "outputId": "46b3b3b8-752d-420e-d115-64c8ffa355a8",
        "colab": {
          "base_uri": "https://localhost:8080/",
          "height": 34
        }
      },
      "source": [
        "Square = [i**2 for i in range(10)]\n",
        "print(Square)"
      ],
      "execution_count": 0,
      "outputs": [
        {
          "output_type": "stream",
          "text": [
            "[0, 1, 4, 9, 16, 25, 36, 49, 64, 81]\n"
          ],
          "name": "stdout"
        }
      ]
    },
    {
      "cell_type": "markdown",
      "metadata": {
        "id": "wKlwdYE5xUj5",
        "colab_type": "text"
      },
      "source": [
        "Example: Your code without comprehensions may look like this:\n",
        "\n",
        "---\n",
        "\n"
      ]
    },
    {
      "cell_type": "code",
      "metadata": {
        "id": "ZP4MN8Q0xZQr",
        "colab_type": "code",
        "colab": {}
      },
      "source": [
        "def some_function(k):\n",
        "  # some lines of code doing something \n",
        "  # ...\n",
        "  \n",
        "  another_list = []\n",
        "  for i in range(k):\n",
        "    if i%2 ==0:\n",
        "        another_list.append( (i*7 + 5) % 13 )\n",
        "    else:\n",
        "        another_list.append( (i*5 + 7) % 23 )\n",
        "  \n",
        "  # ...\n",
        "  # more lines of code doing something else"
      ],
      "execution_count": 0,
      "outputs": []
    },
    {
      "cell_type": "markdown",
      "metadata": {
        "id": "Tqwy3gpUxexf",
        "colab_type": "text"
      },
      "source": [
        "If the preceding or following code is long enough in ‘some_function’, that bit about the list may get lost. But using list comprehensions directly on those 6 lines wouldn’t look that pretty:\n"
      ]
    },
    {
      "cell_type": "code",
      "metadata": {
        "id": "acj9AcSAxpqb",
        "colab_type": "code",
        "outputId": "ad11945f-2897-4ecd-8dfd-bbef7b826841",
        "colab": {
          "base_uri": "https://localhost:8080/",
          "height": 34
        }
      },
      "source": [
        "another_list = [(i*7 + 5)% 13 if i%2==0 else (i*5 +7)% 23 for i in range (10)]\n",
        "print(another_list)"
      ],
      "execution_count": 0,
      "outputs": [
        {
          "output_type": "stream",
          "text": [
            "[5, 12, 6, 22, 7, 9, 8, 19, 9, 6]\n"
          ],
          "name": "stdout"
        }
      ]
    },
    {
      "cell_type": "markdown",
      "metadata": {
        "id": "alfxZCMz3O4d",
        "colab_type": "text"
      },
      "source": [
        "Example: Multiplying parts of a list.\n",
        "\n",
        "---\n",
        "\n",
        "Multiply every part of a list by three and assign it to a new list."
      ]
    },
    {
      "cell_type": "code",
      "metadata": {
        "id": "569kGaF93SYL",
        "colab_type": "code",
        "outputId": "f374847a-2f1f-4ae3-d2ac-7ee3004778f0",
        "colab": {
          "base_uri": "https://localhost:8080/",
          "height": 34
        }
      },
      "source": [
        "list = [3,4,5]\n",
        "\n",
        "new_list = [item*3 for item in list]\n",
        "print(new_list)"
      ],
      "execution_count": 0,
      "outputs": [
        {
          "output_type": "stream",
          "text": [
            "[9, 12, 15]\n"
          ],
          "name": "stdout"
        }
      ]
    },
    {
      "cell_type": "markdown",
      "metadata": {
        "id": "KzovBu3A3fqX",
        "colab_type": "text"
      },
      "source": [
        "Example: Show the first letter of each word\n",
        "\n",
        "\n",
        "---\n",
        "\n",
        "Show the first letter of each word"
      ]
    },
    {
      "cell_type": "code",
      "metadata": {
        "id": "ws_PMu-r3sHo",
        "colab_type": "code",
        "outputId": "ca83151a-8a8c-48f5-b997-feb0c10edf1f",
        "colab": {
          "base_uri": "https://localhost:8080/",
          "height": 34
        }
      },
      "source": [
        "listOfWords = [\"this\",\"is\",\"a\",\"list\",\"of\",\"words\"]\n",
        "\n",
        "items = [word[0] for word in listOfWords]\n",
        "print(items)"
      ],
      "execution_count": 0,
      "outputs": [
        {
          "output_type": "stream",
          "text": [
            "['t', 'i', 'a', 'l', 'o', 'w']\n"
          ],
          "name": "stdout"
        }
      ]
    },
    {
      "cell_type": "markdown",
      "metadata": {
        "id": "jydbxQnO4Hvh",
        "colab_type": "text"
      },
      "source": [
        "**Lower/Upper case converter:**\n",
        "\n",
        "---\n",
        "\n",
        "Let's show how easy you can convert lower case "
      ]
    },
    {
      "cell_type": "code",
      "metadata": {
        "id": "7__lZdt04L_-",
        "colab_type": "code",
        "outputId": "81ddf38d-8eb9-4340-d55a-48d927f5ffc4",
        "colab": {
          "base_uri": "https://localhost:8080/",
          "height": 34
        }
      },
      "source": [
        "lower_case = [x.lower() for x in [\"A\",\"B\",\"C\"]]\n",
        "print(lower_case)"
      ],
      "execution_count": 0,
      "outputs": [
        {
          "output_type": "stream",
          "text": [
            "['a', 'b', 'c']\n"
          ],
          "name": "stdout"
        }
      ]
    },
    {
      "cell_type": "markdown",
      "metadata": {
        "id": "ELHZtfQN4sCv",
        "colab_type": "text"
      },
      "source": [
        "Let's show how easy you can convert lower case / upper case letters."
      ]
    },
    {
      "cell_type": "code",
      "metadata": {
        "id": "Ysdd1pSu4x0K",
        "colab_type": "code",
        "outputId": "8dc6ac10-ec4d-4cfd-9ca9-122dfd1b9edf",
        "colab": {
          "base_uri": "https://localhost:8080/",
          "height": 34
        }
      },
      "source": [
        "upper_case = [x.upper() for x in [\"a\",\"b\",\"c\"]]\n",
        "print(upper_case)\n",
        "      "
      ],
      "execution_count": 0,
      "outputs": [
        {
          "output_type": "stream",
          "text": [
            "['A', 'B', 'C']\n"
          ],
          "name": "stdout"
        }
      ]
    },
    {
      "cell_type": "markdown",
      "metadata": {
        "id": "BEUoTkzw5GnW",
        "colab_type": "text"
      },
      "source": [
        "**Print numbers only from a given string**\n",
        "\n",
        "---\n",
        "\n",
        "his example show how to extract all the numbers from a string."
      ]
    },
    {
      "cell_type": "code",
      "metadata": {
        "id": "sblLOm8x4nev",
        "colab_type": "code",
        "outputId": "7c49b6a4-9b82-4ceb-f08b-6a0f0d723996",
        "colab": {
          "base_uri": "https://localhost:8080/",
          "height": 34
        }
      },
      "source": [
        "string = \"Hello 12345 World\"\n",
        "numbers = [x for x in string if x.isdigit()]\n",
        "print(numbers)\n"
      ],
      "execution_count": 0,
      "outputs": [
        {
          "output_type": "stream",
          "text": [
            "['1', '2', '3', '4', '5']\n"
          ],
          "name": "stdout"
        }
      ]
    },
    {
      "cell_type": "markdown",
      "metadata": {
        "id": "l5tHR5Ra5fKb",
        "colab_type": "text"
      },
      "source": [
        "**Using list comprehension in functions**\n",
        "\n",
        "\n",
        "---\n",
        "\n",
        "Now, let's see how we can use list comprehension in functions."
      ]
    },
    {
      "cell_type": "code",
      "metadata": {
        "id": "Ozg-rSrx5i5w",
        "colab_type": "code",
        "outputId": "7d1e5712-01f6-4d4c-8316-6a12f0f25d8c",
        "colab": {
          "base_uri": "https://localhost:8080/",
          "height": 34
        }
      },
      "source": [
        "# Create a function and name it double:\n",
        "def double(x):\n",
        "  return x*2\n",
        "\n",
        "# If you now just print that function with a value in it, it should look like this:\n",
        "print(double(10))"
      ],
      "execution_count": 0,
      "outputs": [
        {
          "output_type": "stream",
          "text": [
            "20\n"
          ],
          "name": "stdout"
        }
      ]
    },
    {
      "cell_type": "code",
      "metadata": {
        "id": "sfshLfig5pzH",
        "colab_type": "code",
        "outputId": "8bad299e-62a3-4bef-8f4f-2458978bd06e",
        "colab": {
          "base_uri": "https://localhost:8080/",
          "height": 34
        }
      },
      "source": [
        "double = [double(x) for x in range (10)]\n",
        "print (double)"
      ],
      "execution_count": 0,
      "outputs": [
        {
          "output_type": "stream",
          "text": [
            "[0, 2, 4, 6, 8, 10, 12, 14, 16, 18]\n"
          ],
          "name": "stdout"
        }
      ]
    }
  ]
}