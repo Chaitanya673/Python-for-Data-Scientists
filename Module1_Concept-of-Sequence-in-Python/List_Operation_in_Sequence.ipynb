{
  "nbformat": 4,
  "nbformat_minor": 0,
  "metadata": {
    "colab": {
      "name": "List_Operation_in_Sequence.ipynb",
      "version": "0.3.2",
      "provenance": []
    },
    "kernelspec": {
      "name": "python3",
      "display_name": "Python 3"
    }
  },
  "cells": [
    {
      "cell_type": "markdown",
      "metadata": {
        "id": "UN5glT2M_6Ae",
        "colab_type": "text"
      },
      "source": [
        "## append\n",
        "\n",
        "---\n",
        "\n"
      ]
    },
    {
      "cell_type": "code",
      "metadata": {
        "id": "ZNQ-7XGx_03T",
        "colab_type": "code",
        "colab": {
          "base_uri": "https://localhost:8080/",
          "height": 34
        },
        "outputId": "6a8816d5-bf4e-440f-e7d8-ac96a0229757"
      },
      "source": [
        "a = [1,2,3,4,5]\n",
        "a.append(6)\n",
        "print(a)\n",
        "#the output will have 6 at the end of the list."
      ],
      "execution_count": 1,
      "outputs": [
        {
          "output_type": "stream",
          "text": [
            "[1, 2, 3, 4, 5, 6]\n"
          ],
          "name": "stdout"
        }
      ]
    },
    {
      "cell_type": "markdown",
      "metadata": {
        "id": "sHU8kB5zAJN0",
        "colab_type": "text"
      },
      "source": [
        "## clear"
      ]
    },
    {
      "cell_type": "code",
      "metadata": {
        "id": "AeLGr9XVADBG",
        "colab_type": "code",
        "colab": {
          "base_uri": "https://localhost:8080/",
          "height": 34
        },
        "outputId": "1734434d-1a99-43b1-d938-fc79bc0c34ee"
      },
      "source": [
        "a = [1,2,3,4,5]\n",
        "a.clear()\n",
        "print(a)\n",
        "#this will clear the list or empty the list."
      ],
      "execution_count": 3,
      "outputs": [
        {
          "output_type": "stream",
          "text": [
            "[]\n"
          ],
          "name": "stdout"
        }
      ]
    },
    {
      "cell_type": "markdown",
      "metadata": {
        "id": "-IpMOPYRAVcU",
        "colab_type": "text"
      },
      "source": [
        "## copy"
      ]
    },
    {
      "cell_type": "code",
      "metadata": {
        "id": "I2q8f3joAPFH",
        "colab_type": "code",
        "colab": {
          "base_uri": "https://localhost:8080/",
          "height": 34
        },
        "outputId": "c2db1a49-5c87-40ad-8cc9-5a5974f8de8c"
      },
      "source": [
        "a = [1,2,3,4,5]\n",
        "b = a.copy()\n",
        " \n",
        "print(b)\n",
        "#it makes the copy of the list."
      ],
      "execution_count": 4,
      "outputs": [
        {
          "output_type": "stream",
          "text": [
            "[1, 2, 3, 4, 5]\n"
          ],
          "name": "stdout"
        }
      ]
    },
    {
      "cell_type": "markdown",
      "metadata": {
        "id": "7rjSUhbAAcLb",
        "colab_type": "text"
      },
      "source": [
        "## count"
      ]
    },
    {
      "cell_type": "code",
      "metadata": {
        "id": "rKfoE5pDAYlt",
        "colab_type": "code",
        "colab": {
          "base_uri": "https://localhost:8080/",
          "height": 34
        },
        "outputId": "bd7e45b2-fc69-487a-9b6b-5d633ffd0ce2"
      },
      "source": [
        "a = [1,1,1,3,3,3,4,4,4,4,5,5,5,5,5]\n",
        " \n",
        "a.count(5)\n",
        "#this will give the number of times 5 is present in the list."
      ],
      "execution_count": 5,
      "outputs": [
        {
          "output_type": "execute_result",
          "data": {
            "text/plain": [
              "5"
            ]
          },
          "metadata": {
            "tags": []
          },
          "execution_count": 5
        }
      ]
    },
    {
      "cell_type": "markdown",
      "metadata": {
        "id": "ZNBLsiI2An-F",
        "colab_type": "text"
      },
      "source": [
        "## extend"
      ]
    },
    {
      "cell_type": "code",
      "metadata": {
        "id": "Y726MFpoAgUP",
        "colab_type": "code",
        "colab": {
          "base_uri": "https://localhost:8080/",
          "height": 34
        },
        "outputId": "acf21b43-4190-48e6-8a45-46a46db051e0"
      },
      "source": [
        "a = [1,2,3,4,5]\n",
        " \n",
        "a.extend(range(6,11))\n",
        "print(a)\n",
        "#this will add the values in this list from the iterable object range."
      ],
      "execution_count": 7,
      "outputs": [
        {
          "output_type": "stream",
          "text": [
            "[1, 2, 3, 4, 5, 6, 7, 8, 9, 10]\n"
          ],
          "name": "stdout"
        }
      ]
    },
    {
      "cell_type": "markdown",
      "metadata": {
        "id": "3HLrSebJA1pN",
        "colab_type": "text"
      },
      "source": [
        "## insert"
      ]
    },
    {
      "cell_type": "code",
      "metadata": {
        "id": "XiNZsBXsAqap",
        "colab_type": "code",
        "colab": {
          "base_uri": "https://localhost:8080/",
          "height": 34
        },
        "outputId": "26a8e73c-28a8-4594-dc98-97f37c0721b5"
      },
      "source": [
        "a = ['data analysis', 'python', 'data science']\n",
        " \n",
        "a.insert(2,'artificial intelligence')\n",
        "print(a)\n",
        "#this will add the string at the index value 2"
      ],
      "execution_count": 9,
      "outputs": [
        {
          "output_type": "stream",
          "text": [
            "['data analysis', 'python', 'artificial intelligence', 'data science']\n"
          ],
          "name": "stdout"
        }
      ]
    },
    {
      "cell_type": "markdown",
      "metadata": {
        "id": "XwlBdmNHBD3D",
        "colab_type": "text"
      },
      "source": [
        "## index"
      ]
    },
    {
      "cell_type": "code",
      "metadata": {
        "id": "H5vlWLLhA_iW",
        "colab_type": "code",
        "colab": {
          "base_uri": "https://localhost:8080/",
          "height": 34
        },
        "outputId": "da8e24ac-0084-4149-b4cd-0b65d3057b54"
      },
      "source": [
        "a = ['data analysis', 'python', 'programming', 'data science', 'AI', 'machine learning']\n",
        " \n",
        "\n",
        "print(a.index('data science'))\n",
        "#this will get the index value at the string 'data science' which is 3."
      ],
      "execution_count": 11,
      "outputs": [
        {
          "output_type": "stream",
          "text": [
            "3\n"
          ],
          "name": "stdout"
        }
      ]
    },
    {
      "cell_type": "markdown",
      "metadata": {
        "id": "IA82-wEYBUY0",
        "colab_type": "text"
      },
      "source": [
        "## pop"
      ]
    },
    {
      "cell_type": "code",
      "metadata": {
        "id": "QWut3Nq6BL5q",
        "colab_type": "code",
        "colab": {
          "base_uri": "https://localhost:8080/",
          "height": 51
        },
        "outputId": "a10436c3-6070-46de-e87f-c70e6c77166c"
      },
      "source": [
        "a = [1,2,3,4,5]\n",
        " \n",
        "print(a.pop())\n",
        "#this will pop the value from the end of the list i.e 5. the list will no longer have 5 after this.\n",
        "print(a)"
      ],
      "execution_count": 14,
      "outputs": [
        {
          "output_type": "stream",
          "text": [
            "5\n",
            "[1, 2, 3, 4]\n"
          ],
          "name": "stdout"
        }
      ]
    },
    {
      "cell_type": "markdown",
      "metadata": {
        "id": "SHCW_8WeBooQ",
        "colab_type": "text"
      },
      "source": [
        "## remove"
      ]
    },
    {
      "cell_type": "code",
      "metadata": {
        "id": "m98INHzWBXkv",
        "colab_type": "code",
        "colab": {
          "base_uri": "https://localhost:8080/",
          "height": 34
        },
        "outputId": "9bd41125-a7d9-426f-ec53-8dfba4df34d0"
      },
      "source": [
        "a = [1,2,3,4,11,5]\n",
        " \n",
        "a.remove(11)\n",
        "#this will remove 11 from the list.\n",
        "print(a)"
      ],
      "execution_count": 16,
      "outputs": [
        {
          "output_type": "stream",
          "text": [
            "[1, 2, 3, 4, 5]\n"
          ],
          "name": "stdout"
        }
      ]
    },
    {
      "cell_type": "markdown",
      "metadata": {
        "id": "E_yUTafrBuRN",
        "colab_type": "text"
      },
      "source": [
        "## reverse"
      ]
    },
    {
      "cell_type": "code",
      "metadata": {
        "id": "zQPixJlzBrl3",
        "colab_type": "code",
        "colab": {
          "base_uri": "https://localhost:8080/",
          "height": 34
        },
        "outputId": "6c2c78a9-6da5-4665-9446-7faaf483f328"
      },
      "source": [
        "a = [5,4,3,2,1]\n",
        " \n",
        "a.reverse()\n",
        "#this will reverse the list.\n",
        " \n",
        "#another statement to reverse the list\n",
        "a = a[: :-1]\n",
        "print(a)"
      ],
      "execution_count": 20,
      "outputs": [
        {
          "output_type": "stream",
          "text": [
            "[5, 4, 3, 2, 1]\n"
          ],
          "name": "stdout"
        }
      ]
    },
    {
      "cell_type": "markdown",
      "metadata": {
        "id": "zSSuWMb5CCb8",
        "colab_type": "text"
      },
      "source": [
        "## sort"
      ]
    },
    {
      "cell_type": "code",
      "metadata": {
        "id": "lNSYmP6fBx12",
        "colab_type": "code",
        "colab": {
          "base_uri": "https://localhost:8080/",
          "height": 34
        },
        "outputId": "a008b05c-e111-4719-a6ca-839ce52450b4"
      },
      "source": [
        "a = [3,1,2,6,4,5,9,6,7,8]\n",
        " \n",
        "a.sort()\n",
        "#you will get a sorted list as a result.\n",
        "print(a)"
      ],
      "execution_count": 22,
      "outputs": [
        {
          "output_type": "stream",
          "text": [
            "[1, 2, 3, 4, 5, 6, 6, 7, 8, 9]\n"
          ],
          "name": "stdout"
        }
      ]
    },
    {
      "cell_type": "markdown",
      "metadata": {
        "id": "OMthA05XCS7W",
        "colab_type": "text"
      },
      "source": [
        "# Slicing A List In Python\n",
        "\n",
        "---\n",
        "\n",
        "Suppose you have a list with numbers from 0-10. But you only want to get the numbers from 5-10, you must not access all the elements typing the index values of all those numbers. Instead you can follow the approach in the code below."
      ]
    },
    {
      "cell_type": "code",
      "metadata": {
        "id": "u0iRaC1-CEj5",
        "colab_type": "code",
        "colab": {
          "base_uri": "https://localhost:8080/",
          "height": 34
        },
        "outputId": "087b310f-9807-47e8-9a58-926631141a72"
      },
      "source": [
        "a = [1,2,3,4,5,6,7,8,9,10]\n",
        " \n",
        "a[4:11]\n",
        "#this will get all the numbers starting from index 4 to index 11."
      ],
      "execution_count": 27,
      "outputs": [
        {
          "output_type": "execute_result",
          "data": {
            "text/plain": [
              "[5, 6, 7, 8, 9, 10]"
            ]
          },
          "metadata": {
            "tags": []
          },
          "execution_count": 27
        }
      ]
    },
    {
      "cell_type": "code",
      "metadata": {
        "id": "K-x3yHoHCXIR",
        "colab_type": "code",
        "colab": {
          "base_uri": "https://localhost:8080/",
          "height": 34
        },
        "outputId": "b5baceb4-56e8-4fba-c18b-e0392da75f86"
      },
      "source": [
        "a = [1,2,3,4,5,6,7,8,9,10]\n",
        "a[-1:-6]\n",
        "#this will get all the numbers from the index 11 to index 6."
      ],
      "execution_count": 28,
      "outputs": [
        {
          "output_type": "execute_result",
          "data": {
            "text/plain": [
              "[]"
            ]
          },
          "metadata": {
            "tags": []
          },
          "execution_count": 28
        }
      ]
    },
    {
      "cell_type": "code",
      "metadata": {
        "id": "gDzdEU8kCeLT",
        "colab_type": "code",
        "colab": {
          "base_uri": "https://localhost:8080/",
          "height": 34
        },
        "outputId": "d223cb7e-33f0-481b-f1ec-625344c2a251"
      },
      "source": [
        "a = [1,2,3,4,5,6,7,8,9,10]\n",
        "a[4:]\n",
        "#this will print all the numbers starting from index 4 until the end of the list."
      ],
      "execution_count": 29,
      "outputs": [
        {
          "output_type": "execute_result",
          "data": {
            "text/plain": [
              "[5, 6, 7, 8, 9, 10]"
            ]
          },
          "metadata": {
            "tags": []
          },
          "execution_count": 29
        }
      ]
    },
    {
      "cell_type": "code",
      "metadata": {
        "id": "KY6y7BtJCuXZ",
        "colab_type": "code",
        "colab": {
          "base_uri": "https://localhost:8080/",
          "height": 34
        },
        "outputId": "81bdf91c-b46f-4888-8f1b-ebead2674d22"
      },
      "source": [
        "a = [1,2,3,4,5,6,7,8,9,10]\n",
        "a[:6]\n",
        "#this will print all the numbers from index 0 until the index 6."
      ],
      "execution_count": 30,
      "outputs": [
        {
          "output_type": "execute_result",
          "data": {
            "text/plain": [
              "[1, 2, 3, 4, 5, 6]"
            ]
          },
          "metadata": {
            "tags": []
          },
          "execution_count": 30
        }
      ]
    }
  ]
}