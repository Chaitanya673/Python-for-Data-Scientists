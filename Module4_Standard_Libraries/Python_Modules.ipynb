{
  "nbformat": 4,
  "nbformat_minor": 0,
  "metadata": {
    "colab": {
      "name": "Python_Modules.ipynb",
      "version": "0.3.2",
      "provenance": [],
      "collapsed_sections": []
    },
    "kernelspec": {
      "name": "python3",
      "display_name": "Python 3"
    }
  },
  "cells": [
    {
      "cell_type": "markdown",
      "metadata": {
        "id": "zTSDaB81G8Wt",
        "colab_type": "text"
      },
      "source": [
        "# Python_Modules\n",
        "\n",
        "**What is a Module?**\n",
        "\n",
        "Consider a module to be the same as a code library.\n",
        "\n",
        "A file containing a set of functions you want to include in your application.\n",
        "\n",
        "Modules are simply a ‘program logic’ or a ‘python script’ that can be used for variety of applications or functions. We can declare functions, classes etc in a module.\n",
        "\n",
        "The focus is to break down the code into different modules so that there will be no or minimum dependencies on one another. Using modules in a code helps to write lesser line of codes, a single procedure developed for reuse of the code as well. It also eliminates the need to write the same logic again and again.\n",
        "\n",
        "One more advantage of using modules is that the  programs can be designed easily, since a whole team works only on a part or module of the entire code.\n",
        "\n",
        "---\n",
        "\n",
        "**Create a Module**\n",
        "\n",
        "To create a module just save the code you want in a file with the file extension .py:"
      ]
    },
    {
      "cell_type": "code",
      "metadata": {
        "id": "6SJQV5DvGs0x",
        "colab_type": "code",
        "colab": {}
      },
      "source": [
        "# Save this code in a file named mymodule.py\n",
        "\n",
        "def greeting(name):\n",
        "  print(\"Hello, \" + name)"
      ],
      "execution_count": 0,
      "outputs": []
    },
    {
      "cell_type": "markdown",
      "metadata": {
        "id": "zrsvP9RYH6Tb",
        "colab_type": "text"
      },
      "source": [
        "**Use a Module**\n",
        "\n",
        "Now we can use the module we just created, by using the import statement:"
      ]
    },
    {
      "cell_type": "code",
      "metadata": {
        "id": "aeqjgOzVH8su",
        "colab_type": "code",
        "colab": {}
      },
      "source": [
        "# Import the module named mymodule, and call the greeting function:\n",
        "\n",
        "import mymodule\n",
        "\n",
        "mymodule.greeting(\"Jonathan\")"
      ],
      "execution_count": 0,
      "outputs": []
    },
    {
      "cell_type": "markdown",
      "metadata": {
        "id": "3v6ePnskIBp4",
        "colab_type": "text"
      },
      "source": [
        "Note: When using a function from a module, use the syntax: ***module_name.function_name.***"
      ]
    },
    {
      "cell_type": "markdown",
      "metadata": {
        "id": "Lu66dT7oIeiZ",
        "colab_type": "text"
      },
      "source": [
        "**Variables in Module**\n",
        "\n",
        "The module can contain functions, as already described, but also variables of all types (arrays, dictionaries, objects etc):"
      ]
    },
    {
      "cell_type": "code",
      "metadata": {
        "id": "h5tpe12hIcPl",
        "colab_type": "code",
        "colab": {}
      },
      "source": [
        "# Save this code in the file mymodule.py\n",
        "\n",
        "person1 = {\n",
        "  \"name\": \"John\",\n",
        "  \"age\": 36,\n",
        "  \"country\": \"Norway\"\n",
        "}"
      ],
      "execution_count": 0,
      "outputs": []
    },
    {
      "cell_type": "markdown",
      "metadata": {
        "id": "Y4qL6a0DIn_R",
        "colab_type": "text"
      },
      "source": [
        "Import the module named mymodule, and access the person1 dictionary:"
      ]
    },
    {
      "cell_type": "code",
      "metadata": {
        "id": "zqj3gQPjIrct",
        "colab_type": "code",
        "colab": {}
      },
      "source": [
        "import mymodule\n",
        "\n",
        "a = mymodule.person1[\"age\"]\n",
        "print(a)"
      ],
      "execution_count": 0,
      "outputs": []
    },
    {
      "cell_type": "markdown",
      "metadata": {
        "id": "lhqGdkhzIy8M",
        "colab_type": "text"
      },
      "source": [
        "**Naming a Module**\n",
        "\n",
        "You can name the module file whatever you like, but it must have the file extension ***.py***\n",
        "\n",
        "**Re-naming a Module**\n",
        "\n",
        "You can create an alias when you import a module, by using the as keyword:"
      ]
    },
    {
      "cell_type": "code",
      "metadata": {
        "id": "1fimydbjI75b",
        "colab_type": "code",
        "colab": {}
      },
      "source": [
        "# Create an alias for mymodule called mx:\n",
        "\n",
        "import mymodule as mx\n",
        "\n",
        "a = mx.person1[\"age\"]\n",
        "print(a)"
      ],
      "execution_count": 0,
      "outputs": []
    },
    {
      "cell_type": "markdown",
      "metadata": {
        "id": "LarXLruSeXne",
        "colab_type": "text"
      },
      "source": [
        "### How To Create Modules In Python?"
      ]
    },
    {
      "cell_type": "code",
      "metadata": {
        "id": "D1gKMfvDeZve",
        "colab_type": "code",
        "colab": {}
      },
      "source": [
        "# Creating a module in python is similar to writing a simple python script using the .py extension.\n",
        "\n",
        "def add(x,y):\n",
        "     return x + y\n",
        " \n",
        "def sub(x, y):\n",
        "     return x - y\n",
        " \n",
        "def prod(x, y):\n",
        "    return x * y\n",
        " \n",
        "def div(x, y):\n",
        "    return x / y\n",
        "\n",
        "#Save the above code in a file Calc.py. This is how we create a module in python."
      ],
      "execution_count": 0,
      "outputs": []
    },
    {
      "cell_type": "markdown",
      "metadata": {
        "id": "IcKOSSSbeuPh",
        "colab_type": "text"
      },
      "source": [
        "### How To Use Python Modules?"
      ]
    },
    {
      "cell_type": "code",
      "metadata": {
        "id": "NH1WIJK_e4Fz",
        "colab_type": "code",
        "colab": {}
      },
      "source": [
        "# Lets say we have our file with a name main.py.\n",
        "import calc as a\n",
        "a = 10\n",
        "b = 20\n",
        " \n",
        "addition = a.add(a,b)\n",
        "print(addition)\n",
        "\n",
        "#In the above code, we have created an alias using the as keyword."
      ],
      "execution_count": 0,
      "outputs": []
    },
    {
      "cell_type": "markdown",
      "metadata": {
        "id": "L_hoCn6mJBru",
        "colab_type": "text"
      },
      "source": [
        "**Built-in Modules**\n",
        "\n",
        "There are several built-in modules in Python, which you can import whenever you like."
      ]
    },
    {
      "cell_type": "code",
      "metadata": {
        "id": "N2Lvg2SkJG0v",
        "colab_type": "code",
        "outputId": "94d606e5-1928-42ba-9d85-1e232f2b9353",
        "colab": {
          "base_uri": "https://localhost:8080/",
          "height": 34
        }
      },
      "source": [
        "# Import and use the platform module:\n",
        "\n",
        "import platform\n",
        "\n",
        "x = platform.system()\n",
        "print(x)"
      ],
      "execution_count": 0,
      "outputs": [
        {
          "output_type": "stream",
          "text": [
            "Linux\n"
          ],
          "name": "stdout"
        }
      ]
    },
    {
      "cell_type": "markdown",
      "metadata": {
        "id": "5fWRE4YHJS8S",
        "colab_type": "text"
      },
      "source": [
        "**Using the dir() Function**\n",
        "\n",
        "There is a built-in function to list all the function names (or variable names) in a module. The dir() function:"
      ]
    },
    {
      "cell_type": "code",
      "metadata": {
        "id": "-baxBPYjJZOG",
        "colab_type": "code",
        "outputId": "25e84f04-70a0-4960-c0c0-4ce9d3210c41",
        "colab": {
          "base_uri": "https://localhost:8080/",
          "height": 54
        }
      },
      "source": [
        "import platform\n",
        "\n",
        "x = dir(platform)\n",
        "print(x)"
      ],
      "execution_count": 0,
      "outputs": [
        {
          "output_type": "stream",
          "text": [
            "['DEV_NULL', '_UNIXCONFDIR', '_WIN32_CLIENT_RELEASES', '_WIN32_SERVER_RELEASES', '__builtins__', '__cached__', '__copyright__', '__doc__', '__file__', '__loader__', '__name__', '__package__', '__spec__', '__version__', '_codename_file_re', '_comparable_version', '_component_re', '_default_architecture', '_dist_try_harder', '_distributor_id_file_re', '_follow_symlinks', '_ironpython26_sys_version_parser', '_ironpython_sys_version_parser', '_java_getprop', '_libc_search', '_linux_distribution', '_lsb_release_version', '_mac_ver_xml', '_node', '_norm_version', '_parse_release_file', '_platform', '_platform_cache', '_pypy_sys_version_parser', '_release_file_re', '_release_filename', '_release_version', '_supported_dists', '_sys_version', '_sys_version_cache', '_sys_version_parser', '_syscmd_file', '_syscmd_uname', '_syscmd_ver', '_uname_cache', '_ver_output', '_ver_stages', 'architecture', 'collections', 'dist', 'java_ver', 'libc_ver', 'linux_distribution', 'mac_ver', 'machine', 'node', 'os', 'platform', 'popen', 'processor', 'python_branch', 'python_build', 'python_compiler', 'python_implementation', 'python_revision', 'python_version', 'python_version_tuple', 're', 'release', 'subprocess', 'sys', 'system', 'system_alias', 'uname', 'uname_result', 'version', 'warnings', 'win32_ver']\n"
          ],
          "name": "stdout"
        }
      ]
    },
    {
      "cell_type": "markdown",
      "metadata": {
        "id": "xqWZjbo9gfm_",
        "colab_type": "text"
      },
      "source": [
        "## Sys Module:"
      ]
    },
    {
      "cell_type": "code",
      "metadata": {
        "id": "nfWeam5Ife8-",
        "colab_type": "code",
        "colab": {
          "base_uri": "https://localhost:8080/",
          "height": 34
        },
        "outputId": "3e9eacb2-9895-46dd-ba45-a63d700d460f"
      },
      "source": [
        "import sys\n",
        "print(sys.argv)"
      ],
      "execution_count": 8,
      "outputs": [
        {
          "output_type": "stream",
          "text": [
            "['/usr/local/lib/python3.6/dist-packages/ipykernel_launcher.py', '-f', '/root/.local/share/jupyter/runtime/kernel-ff05087e-f5c0-4b81-8a5d-213d2d2e3dd6.json']\n"
          ],
          "name": "stdout"
        }
      ]
    },
    {
      "cell_type": "code",
      "metadata": {
        "id": "N0FTtrZwgliH",
        "colab_type": "code",
        "colab": {
          "base_uri": "https://localhost:8080/",
          "height": 34
        },
        "outputId": "9fdef24e-34e0-449d-8b3c-2c50ab7822e2"
      },
      "source": [
        "# Return False if module is imported, else True\n",
        "print(not sys)"
      ],
      "execution_count": 10,
      "outputs": [
        {
          "output_type": "stream",
          "text": [
            "False\n"
          ],
          "name": "stdout"
        }
      ]
    },
    {
      "cell_type": "markdown",
      "metadata": {
        "id": "jqz01vtfht-S",
        "colab_type": "text"
      },
      "source": [
        "## OS Module\n",
        "\n",
        "---\n",
        "\n",
        "The OS module includes code that lets Python work with your operating system, they even run operating system command.\n"
      ]
    },
    {
      "cell_type": "code",
      "metadata": {
        "id": "VaQX1Sfjha-6",
        "colab_type": "code",
        "colab": {
          "base_uri": "https://localhost:8080/",
          "height": 34
        },
        "outputId": "e9e69813-d83a-4e3f-c92e-1c20ba664035"
      },
      "source": [
        "import os\n",
        "print(os.getcwd())"
      ],
      "execution_count": 14,
      "outputs": [
        {
          "output_type": "stream",
          "text": [
            "/content\n"
          ],
          "name": "stdout"
        }
      ]
    },
    {
      "cell_type": "code",
      "metadata": {
        "id": "vA7KSaTPiEHA",
        "colab_type": "code",
        "colab": {
          "base_uri": "https://localhost:8080/",
          "height": 34
        },
        "outputId": "499ba02e-97d3-47a5-feb6-a1d82b208a5c"
      },
      "source": [
        "print(os.name)"
      ],
      "execution_count": 15,
      "outputs": [
        {
          "output_type": "stream",
          "text": [
            "posix\n"
          ],
          "name": "stdout"
        }
      ]
    },
    {
      "cell_type": "code",
      "metadata": {
        "id": "IEr7gjFXiKUF",
        "colab_type": "code",
        "colab": {
          "base_uri": "https://localhost:8080/",
          "height": 54
        },
        "outputId": "474431e1-86d0-490a-d3e3-d59d4b8f3a5a"
      },
      "source": [
        "print(os.environ)"
      ],
      "execution_count": 16,
      "outputs": [
        {
          "output_type": "stream",
          "text": [
            "environ({'ENV': '/root/.bashrc', 'GCS_READ_CACHE_BLOCK_SIZE_MB': '16', 'CLOUDSDK_CONFIG': '/content/.config', 'CUDA_VERSION': '10.0.130', 'PATH': '/usr/local/nvidia/bin:/usr/local/cuda/bin:/usr/local/sbin:/usr/local/bin:/usr/sbin:/usr/bin:/sbin:/bin:/tools/node/bin:/tools/google-cloud-sdk/bin:/opt/bin', 'HOME': '/root', 'LD_LIBRARY_PATH': '/usr/local/nvidia/lib:/usr/local/nvidia/lib64', 'LANG': 'en_US.UTF-8', 'SHELL': '/bin/bash', 'LIBRARY_PATH': '/usr/local/cuda/lib64/stubs', 'CUDA_PKG_VERSION': '10-0=10.0.130-1', 'SHLVL': '1', 'NCCL_VERSION': '2.4.2', 'NVIDIA_VISIBLE_DEVICES': 'all', 'TF_FORCE_GPU_ALLOW_GROWTH': 'true', 'DEBIAN_FRONTEND': 'noninteractive', 'CUDNN_VERSION': '7.6.0.64', 'LAST_FORCED_REBUILD': '20190507', 'JPY_PARENT_PID': '26', 'PYTHONPATH': '/env/python', 'DATALAB_SETTINGS_OVERRIDES': '{\"kernelManagerProxyPort\":6000,\"kernelManagerProxyHost\":\"172.28.0.3\",\"jupyterArgs\":[\"--ip=\\\\\"172.28.0.2\\\\\"\"]}', 'NO_GCE_CHECK': 'True', 'GLIBCXX_FORCE_NEW': '1', 'NVIDIA_DRIVER_CAPABILITIES': 'compute,utility', '_': '/tools/node/bin/node', 'LD_PRELOAD': '/usr/lib/x86_64-linux-gnu/libtcmalloc.so.4', 'NVIDIA_REQUIRE_CUDA': 'cuda>=10.0 brand=tesla,driver>=384,driver<385 brand=tesla,driver>=410,driver<411', 'OLDPWD': '/', 'HOSTNAME': '93e102b848e1', 'COLAB_GPU': '0', 'PWD': '/', 'GLIBCPP_FORCE_NEW': '1', 'PYTHONWARNINGS': 'ignore:::pip._internal.cli.base_command', 'TERM': 'xterm-color', 'CLICOLOR': '1', 'PAGER': 'cat', 'GIT_PAGER': 'cat', 'MPLBACKEND': 'module://ipykernel.pylab.backend_inline', 'KMP_DUPLICATE_LIB_OK': 'True'})\n"
          ],
          "name": "stdout"
        }
      ]
    },
    {
      "cell_type": "markdown",
      "metadata": {
        "id": "1fAac4UHiXxE",
        "colab_type": "text"
      },
      "source": [
        "## Math Module - Power and Logarthimic Function:\n",
        "\n",
        "\n",
        "\n",
        "---\n",
        "\n",
        "This module is always available. It provides access to the mathematical functions"
      ]
    },
    {
      "cell_type": "code",
      "metadata": {
        "id": "r9HfdejXiexu",
        "colab_type": "code",
        "colab": {
          "base_uri": "https://localhost:8080/",
          "height": 34
        },
        "outputId": "204192ac-f598-4be6-b116-d64986aa775c"
      },
      "source": [
        "# Return the ceiling of x as a integer\n",
        "import math\n",
        "print(math.ceil(10.098))"
      ],
      "execution_count": 18,
      "outputs": [
        {
          "output_type": "stream",
          "text": [
            "11\n"
          ],
          "name": "stdout"
        }
      ]
    },
    {
      "cell_type": "code",
      "metadata": {
        "id": "djT2DtTdiwr3",
        "colab_type": "code",
        "colab": {
          "base_uri": "https://localhost:8080/",
          "height": 34
        },
        "outputId": "a6ff4d60-262f-4209-dd1f-0245951f0d0f"
      },
      "source": [
        "# Return x with the sign of y. On a platform that supports signed zeros, copysign (1.0, -0.0) return -1.0\n",
        "print(math.copysign(10,-1))"
      ],
      "execution_count": 19,
      "outputs": [
        {
          "output_type": "stream",
          "text": [
            "-10.0\n"
          ],
          "name": "stdout"
        }
      ]
    },
    {
      "cell_type": "code",
      "metadata": {
        "id": "0vDIJc2ljApX",
        "colab_type": "code",
        "colab": {
          "base_uri": "https://localhost:8080/",
          "height": 34
        },
        "outputId": "03095754-d215-43e2-cf4e-052807ceaa07"
      },
      "source": [
        "# Return positive integer of entered negative values\n",
        "print(math.fabs(-19.7))"
      ],
      "execution_count": 21,
      "outputs": [
        {
          "output_type": "stream",
          "text": [
            "19.7\n"
          ],
          "name": "stdout"
        }
      ]
    },
    {
      "cell_type": "code",
      "metadata": {
        "id": "GWPXOZP5jIlU",
        "colab_type": "code",
        "colab": {
          "base_uri": "https://localhost:8080/",
          "height": 34
        },
        "outputId": "aa00b667-0c39-423c-b044-3a647ff52c38"
      },
      "source": [
        "# Return e**X\n",
        "print(math.exp(5))"
      ],
      "execution_count": 22,
      "outputs": [
        {
          "output_type": "stream",
          "text": [
            "148.4131591025766\n"
          ],
          "name": "stdout"
        }
      ]
    },
    {
      "cell_type": "code",
      "metadata": {
        "id": "te7v4r5UjtRC",
        "colab_type": "code",
        "colab": {
          "base_uri": "https://localhost:8080/",
          "height": 34
        },
        "outputId": "b8337712-5f79-4294-c4bc-bcbe928f33fa"
      },
      "source": [
        "# Return e**x -1\n",
        "print(math.expm1(2))"
      ],
      "execution_count": 23,
      "outputs": [
        {
          "output_type": "stream",
          "text": [
            "6.38905609893065\n"
          ],
          "name": "stdout"
        }
      ]
    },
    {
      "cell_type": "code",
      "metadata": {
        "id": "3M7eiq2Lj4aO",
        "colab_type": "code",
        "colab": {
          "base_uri": "https://localhost:8080/",
          "height": 34
        },
        "outputId": "ce66f020-1bba-4541-b143-8817b8e6438d"
      },
      "source": [
        "# with one argument, return the natural logarithm of x (to base 10)\n",
        "print(math.log(10,10))"
      ],
      "execution_count": 24,
      "outputs": [
        {
          "output_type": "stream",
          "text": [
            "1.0\n"
          ],
          "name": "stdout"
        }
      ]
    },
    {
      "cell_type": "markdown",
      "metadata": {
        "id": "ugONW_SVkWd9",
        "colab_type": "text"
      },
      "source": [
        "## Random\n",
        "\n",
        "---\n",
        "\n",
        "This module implements pseudo-random number generators for various distributions"
      ]
    },
    {
      "cell_type": "code",
      "metadata": {
        "id": "Lh1QDRtQkXpv",
        "colab_type": "code",
        "colab": {
          "base_uri": "https://localhost:8080/",
          "height": 34
        },
        "outputId": "37775016-5398-45ab-e212-85051916bb34"
      },
      "source": [
        "# Generate a random integer within the given range\n",
        "import random\n",
        "num = random.randrange(100)\n",
        "print(num)"
      ],
      "execution_count": 28,
      "outputs": [
        {
          "output_type": "stream",
          "text": [
            "41\n"
          ],
          "name": "stdout"
        }
      ]
    },
    {
      "cell_type": "code",
      "metadata": {
        "id": "KB4OEOgNkweQ",
        "colab_type": "code",
        "colab": {
          "base_uri": "https://localhost:8080/",
          "height": 34
        },
        "outputId": "b34e35bb-b223-4346-8e08-9538c9f5a31c"
      },
      "source": [
        "# Return a randomly selected element from range (start, stop, step)\n",
        "ran = random.randrange(0,100,20)\n",
        "print(ran)"
      ],
      "execution_count": 31,
      "outputs": [
        {
          "output_type": "stream",
          "text": [
            "80\n"
          ],
          "name": "stdout"
        }
      ]
    },
    {
      "cell_type": "code",
      "metadata": {
        "id": "cVnGaTpxlFpO",
        "colab_type": "code",
        "colab": {
          "base_uri": "https://localhost:8080/",
          "height": 34
        },
        "outputId": "82a4fe61-46b2-4f5a-ccfc-a15f102e42c7"
      },
      "source": [
        "# Return a random integer N such than a<= N <=b\n",
        "inte = random.randint(0,30)\n",
        "print(inte)"
      ],
      "execution_count": 32,
      "outputs": [
        {
          "output_type": "stream",
          "text": [
            "7\n"
          ],
          "name": "stdout"
        }
      ]
    },
    {
      "cell_type": "markdown",
      "metadata": {
        "id": "TDEgyEO0lzEL",
        "colab_type": "text"
      },
      "source": [
        "## DataTime Module:\n",
        "\n",
        "---\n",
        "\n",
        "The datatime module includes tools for working with dates, times and combinations. "
      ]
    },
    {
      "cell_type": "code",
      "metadata": {
        "id": "ZhyxacNblouv",
        "colab_type": "code",
        "colab": {
          "base_uri": "https://localhost:8080/",
          "height": 34
        },
        "outputId": "98da9ba9-e736-4f86-9185-e944fd9b1c5d"
      },
      "source": [
        "import datetime\n",
        "print(datetime.datetime.today())"
      ],
      "execution_count": 35,
      "outputs": [
        {
          "output_type": "stream",
          "text": [
            "2019-07-08 17:19:44.402185\n"
          ],
          "name": "stdout"
        }
      ]
    },
    {
      "cell_type": "code",
      "metadata": {
        "id": "tNAT5F_rmJpo",
        "colab_type": "code",
        "colab": {
          "base_uri": "https://localhost:8080/",
          "height": 34
        },
        "outputId": "4911641a-4b95-4d43-f55a-2ada0ffb0f86"
      },
      "source": [
        "print(datetime.MAXYEAR)"
      ],
      "execution_count": 37,
      "outputs": [
        {
          "output_type": "stream",
          "text": [
            "9999\n"
          ],
          "name": "stdout"
        }
      ]
    },
    {
      "cell_type": "code",
      "metadata": {
        "id": "WGZqhr_NmXhJ",
        "colab_type": "code",
        "colab": {
          "base_uri": "https://localhost:8080/",
          "height": 34
        },
        "outputId": "c9c1776d-91ee-489e-8e01-3ff52a3ea743"
      },
      "source": [
        "print(datetime.MINYEAR)"
      ],
      "execution_count": 38,
      "outputs": [
        {
          "output_type": "stream",
          "text": [
            "1\n"
          ],
          "name": "stdout"
        }
      ]
    },
    {
      "cell_type": "code",
      "metadata": {
        "id": "gbX-bxoemrIB",
        "colab_type": "code",
        "colab": {
          "base_uri": "https://localhost:8080/",
          "height": 34
        },
        "outputId": "df5e6807-dc5a-4631-f80a-8d81a611b59a"
      },
      "source": [
        "print(datetime.time)"
      ],
      "execution_count": 43,
      "outputs": [
        {
          "output_type": "stream",
          "text": [
            "<class 'datetime.time'>\n"
          ],
          "name": "stdout"
        }
      ]
    },
    {
      "cell_type": "markdown",
      "metadata": {
        "id": "8u8X_a4RnGIN",
        "colab_type": "text"
      },
      "source": [
        "## JSON Module:\n",
        "\n",
        "\n",
        "---\n",
        "\n",
        "Json module provides easy way to encode and decode data in JSON"
      ]
    },
    {
      "cell_type": "code",
      "metadata": {
        "id": "eymlg6aImt0R",
        "colab_type": "code",
        "colab": {
          "base_uri": "https://localhost:8080/",
          "height": 34
        },
        "outputId": "5adf0fb7-aaa5-442c-e417-761632eca7c7"
      },
      "source": [
        "import json\n",
        "data = {\"name\":\"Suneel\", \"Shares\":100, \"Price\":540}\n",
        "json_str = json.dumps(data)\n",
        "print(json_str)"
      ],
      "execution_count": 44,
      "outputs": [
        {
          "output_type": "stream",
          "text": [
            "{\"name\": \"Suneel\", \"Shares\": 100, \"Price\": 540}\n"
          ],
          "name": "stdout"
        }
      ]
    }
  ]
}