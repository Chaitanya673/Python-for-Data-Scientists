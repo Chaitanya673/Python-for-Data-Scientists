{
  "nbformat": 4,
  "nbformat_minor": 0,
  "metadata": {
    "colab": {
      "name": "Python_RegEx.ipynb",
      "version": "0.3.2",
      "provenance": [],
      "collapsed_sections": []
    },
    "kernelspec": {
      "name": "python3",
      "display_name": "Python 3"
    }
  },
  "cells": [
    {
      "cell_type": "markdown",
      "metadata": {
        "id": "d0u-EFZ8Mj-y",
        "colab_type": "text"
      },
      "source": [
        "# Python RegEx\n",
        "\n",
        "A RegEx, or Regular Expression, is a sequence of characters that forms a search pattern.\n",
        "\n",
        "RegEx can be used to check if a string contains the specified search pattern.\n",
        "\n",
        "---\n",
        "\n"
      ]
    },
    {
      "cell_type": "markdown",
      "metadata": {
        "id": "PylyYAIhMu2z",
        "colab_type": "text"
      },
      "source": [
        "RegEx Module\n",
        "\n",
        "Python has a **built-in package called re**, which can be used to work with Regular Expressions.\n",
        "\n",
        "Import the re module:\n",
        "\n",
        "---\n",
        "\n"
      ]
    },
    {
      "cell_type": "code",
      "metadata": {
        "id": "ezVeTUXiMLL2",
        "colab_type": "code",
        "colab": {}
      },
      "source": [
        "import re"
      ],
      "execution_count": 0,
      "outputs": []
    },
    {
      "cell_type": "markdown",
      "metadata": {
        "id": "UzQYSi8YM7ee",
        "colab_type": "text"
      },
      "source": [
        "**RegEx in Python**\n",
        "\n",
        "When you have imported the **re** module, you can start using regular expressions:\n",
        "\n",
        "---\n",
        "\n"
      ]
    },
    {
      "cell_type": "code",
      "metadata": {
        "id": "Ewh1H2NONB--",
        "colab_type": "code",
        "outputId": "69478f13-fcd9-4e7f-aa32-9eae2fa4b1fc",
        "colab": {
          "base_uri": "https://localhost:8080/",
          "height": 34
        }
      },
      "source": [
        "import re\n",
        "\n",
        "txt = \"The rain in Spain\"\n",
        "x = re.search(\"^The.*Spain$\", txt)\n",
        "\n",
        "if (x):\n",
        "  print(\"YES! We have a match!\")\n",
        "else:\n",
        "  print(\"No match\")"
      ],
      "execution_count": 0,
      "outputs": [
        {
          "output_type": "stream",
          "text": [
            "YES! We have a match!\n"
          ],
          "name": "stdout"
        }
      ]
    },
    {
      "cell_type": "markdown",
      "metadata": {
        "id": "sCC4JXRdNkF0",
        "colab_type": "text"
      },
      "source": [
        "**RegEx Functions**\n",
        "\n",
        "The re module offers a set of functions that allows us to search a string for a match:\n",
        "\n",
        "---\n",
        "\n",
        "**Function\tDescription**\n",
        "\n",
        "---\n",
        "\n",
        "**findall **       -> \tReturns a list containing all matches\n",
        "\n",
        "**search  **     -> \tReturns a Match object if there is a match anywhere in the string\n",
        "\n",
        "**split\t **       ->    Returns a list where the string has been split at each match\n",
        "\n",
        "**sub  **   ->    \tReplaces one or many matches with a string"
      ]
    },
    {
      "cell_type": "code",
      "metadata": {
        "id": "bGBa2XN1N-QP",
        "colab_type": "code",
        "outputId": "1522b684-47db-4f0b-add0-9c0674ae3606",
        "colab": {
          "base_uri": "https://localhost:8080/",
          "height": 34
        }
      },
      "source": [
        "import re\n",
        "\n",
        "#Return a list containing every occurrence of \"ai\":\n",
        "\n",
        "str = \"The rain in Spain\"\n",
        "x = re.findall(\"ai\", str)\n",
        "print(x)"
      ],
      "execution_count": 0,
      "outputs": [
        {
          "output_type": "stream",
          "text": [
            "['ai', 'ai']\n"
          ],
          "name": "stdout"
        }
      ]
    },
    {
      "cell_type": "markdown",
      "metadata": {
        "id": "BStFZ_yuOsfh",
        "colab_type": "text"
      },
      "source": [
        "The list contains the matches in the order they are found.\n",
        "\n",
        "If no matches are found, an empty list is returned:"
      ]
    },
    {
      "cell_type": "code",
      "metadata": {
        "id": "iZo8sYw-Ot9Q",
        "colab_type": "code",
        "outputId": "e9bb19ef-4205-498a-b63d-d8177795bf5f",
        "colab": {
          "base_uri": "https://localhost:8080/",
          "height": 51
        }
      },
      "source": [
        "import re\n",
        "\n",
        "str = \"The rain in Spain\"\n",
        "x = re.findall(\"Portugal\", str)\n",
        "print(x)\n",
        "\n",
        "if (x):\n",
        "  print(\"Yes, there is at least one match!\")\n",
        "else:\n",
        "  print(\"No match\")\n"
      ],
      "execution_count": 0,
      "outputs": [
        {
          "output_type": "stream",
          "text": [
            "[]\n",
            "No match\n"
          ],
          "name": "stdout"
        }
      ]
    },
    {
      "cell_type": "markdown",
      "metadata": {
        "id": "cn7AnpDDO-0Q",
        "colab_type": "text"
      },
      "source": [
        "**The search() Function**\n",
        "\n",
        "The search() function searches the string for a match, and returns a Match object if there is a match.\n",
        "\n",
        "If there is more than one match, only the first occurrence of the match will be returned:\n",
        "\n",
        "---\n",
        "\n",
        "Search for the first white-space character in the string:"
      ]
    },
    {
      "cell_type": "code",
      "metadata": {
        "id": "9a9ulj5IPEJ7",
        "colab_type": "code",
        "outputId": "669c3dbc-ed27-4fa8-fc7e-925ebf5bdd85",
        "colab": {
          "base_uri": "https://localhost:8080/",
          "height": 34
        }
      },
      "source": [
        "import re\n",
        "\n",
        "str = \"The rain in Spain\"\n",
        "x = re.search(\"\\s\", str)\n",
        "\n",
        "print(\"The first white-space character is located in position:\", x.start())"
      ],
      "execution_count": 0,
      "outputs": [
        {
          "output_type": "stream",
          "text": [
            "The first white-space character is located in position: 3\n"
          ],
          "name": "stdout"
        }
      ]
    },
    {
      "cell_type": "markdown",
      "metadata": {
        "id": "qGNMFY7QPS0K",
        "colab_type": "text"
      },
      "source": [
        "If no matches are found, the value** None** is returned:\n",
        "\n",
        "---\n",
        "\n",
        "Make a search that returns no match:"
      ]
    },
    {
      "cell_type": "code",
      "metadata": {
        "id": "t4ASvQfLPUoU",
        "colab_type": "code",
        "outputId": "e83b121e-8464-475d-fc0d-baeaf959376d",
        "colab": {
          "base_uri": "https://localhost:8080/",
          "height": 34
        }
      },
      "source": [
        "import re\n",
        "\n",
        "str = \"The rain in Spain\"\n",
        "x = re.search(\"Portugal\", str)\n",
        "print(x)"
      ],
      "execution_count": 0,
      "outputs": [
        {
          "output_type": "stream",
          "text": [
            "None\n"
          ],
          "name": "stdout"
        }
      ]
    },
    {
      "cell_type": "markdown",
      "metadata": {
        "id": "68Cg0OvtPYv3",
        "colab_type": "text"
      },
      "source": [
        "**The split() Function**\n",
        "\n",
        "The split() function returns a list where the string has been split at each match:\n",
        "\n",
        "\n",
        "---\n",
        "\n",
        "Split at each white-space character:"
      ]
    },
    {
      "cell_type": "code",
      "metadata": {
        "id": "pHPTRg4qPftF",
        "colab_type": "code",
        "outputId": "75394600-39d2-4b21-9dcd-30eb7817d760",
        "colab": {
          "base_uri": "https://localhost:8080/",
          "height": 34
        }
      },
      "source": [
        "import re\n",
        "\n",
        "str = \"The rain in Spain\"\n",
        "x = re.split(\"\\s\", str)\n",
        "print(x)"
      ],
      "execution_count": 0,
      "outputs": [
        {
          "output_type": "stream",
          "text": [
            "['The', 'rain', 'in', 'Spain']\n"
          ],
          "name": "stdout"
        }
      ]
    },
    {
      "cell_type": "markdown",
      "metadata": {
        "id": "fcOmjE19TIZ5",
        "colab_type": "text"
      },
      "source": [
        "You can control the number of occurrences by specifying the maxsplit parameter:\n",
        "\n",
        "---\n",
        "Split the string only at the first occurrence:"
      ]
    },
    {
      "cell_type": "code",
      "metadata": {
        "id": "u6w1F4gTTJwe",
        "colab_type": "code",
        "outputId": "ab7cdbdd-e115-47ab-ad3e-e9d1a8b0d51d",
        "colab": {
          "base_uri": "https://localhost:8080/",
          "height": 34
        }
      },
      "source": [
        "import re\n",
        "\n",
        "str = \"The rain in Spain\"\n",
        "x = re.split(\"\\s\", str, 1)\n",
        "print(x)"
      ],
      "execution_count": 0,
      "outputs": [
        {
          "output_type": "stream",
          "text": [
            "['The', 'rain in Spain']\n"
          ],
          "name": "stdout"
        }
      ]
    },
    {
      "cell_type": "markdown",
      "metadata": {
        "id": "JJsqTg6KT4B1",
        "colab_type": "text"
      },
      "source": [
        "**The sub() Function**\n",
        "\n",
        "The sub() function replaces the matches with the text of your choice:\n",
        "\n",
        "---\n",
        "\n",
        "**Example:**\n",
        "Replace every white-space character with the number 9:"
      ]
    },
    {
      "cell_type": "code",
      "metadata": {
        "id": "S28wmOtFT9_L",
        "colab_type": "code",
        "outputId": "3b3296ad-4fe9-4296-d3c8-7a3ba6c817ea",
        "colab": {
          "base_uri": "https://localhost:8080/",
          "height": 34
        }
      },
      "source": [
        "import re\n",
        "\n",
        "str = \"The rain in Spain\"\n",
        "x = re.sub(\"\\s\", \"9\", str)\n",
        "print(x)"
      ],
      "execution_count": 0,
      "outputs": [
        {
          "output_type": "stream",
          "text": [
            "The9rain9in9Spain\n"
          ],
          "name": "stdout"
        }
      ]
    },
    {
      "cell_type": "markdown",
      "metadata": {
        "id": "E58wCCLfUJyv",
        "colab_type": "text"
      },
      "source": [
        "You can control the number of replacements by specifying the count parameter:\n",
        "\n",
        "---\n",
        "\n",
        "**Example:**\n",
        "Replace the first 2 occurrences:"
      ]
    },
    {
      "cell_type": "code",
      "metadata": {
        "id": "Y6GfDi44UQso",
        "colab_type": "code",
        "outputId": "968e5383-40be-46e7-e35e-8105d76b6dec",
        "colab": {
          "base_uri": "https://localhost:8080/",
          "height": 34
        }
      },
      "source": [
        "import re\n",
        "\n",
        "str = \"The rain in Spain\"\n",
        "x = re.sub(\"\\s\", \"9\", str, 2)\n",
        "print(x)"
      ],
      "execution_count": 0,
      "outputs": [
        {
          "output_type": "stream",
          "text": [
            "The9rain9in Spain\n"
          ],
          "name": "stdout"
        }
      ]
    },
    {
      "cell_type": "markdown",
      "metadata": {
        "id": "aisoNvtCUWAU",
        "colab_type": "text"
      },
      "source": [
        "**Match Object**\n",
        "\n",
        "A Match Object is an object containing information about the search and the result.\n",
        "\n",
        "---\n",
        "\n",
        "**Note:** If there are no match, the value None will be returned, instead of the Match Object.\n",
        "\n",
        "---\n",
        "**Example: **Do a search that will return a Match Object:"
      ]
    },
    {
      "cell_type": "code",
      "metadata": {
        "id": "KVw3a7OsUZo-",
        "colab_type": "code",
        "outputId": "3301563b-d5f6-4cee-e0d9-938df93e1e54",
        "colab": {
          "base_uri": "https://localhost:8080/",
          "height": 34
        }
      },
      "source": [
        "import re\n",
        "\n",
        "str = \"The rain in Spain\"\n",
        "x = re.search(\"ai\", str)\n",
        "print(x) #this will print an object"
      ],
      "execution_count": 0,
      "outputs": [
        {
          "output_type": "stream",
          "text": [
            "<_sre.SRE_Match object; span=(5, 7), match='ai'>\n"
          ],
          "name": "stdout"
        }
      ]
    },
    {
      "cell_type": "markdown",
      "metadata": {
        "id": "DKRnh84wU6Qa",
        "colab_type": "text"
      },
      "source": [
        "**The Match object has properties and methods used to retrieve information about the search, and the result:**\n",
        "\n",
        "**.span()** -> returns a tuple containing the start-, and end positions of the match.\n",
        "\n",
        "**.string** -> returns the string passed into the function\n",
        "\n",
        "**.group()** -> returns the part of the string where there was a match\n",
        "\n",
        "---\n",
        "\n",
        "**Example: **\n",
        "Print the position (start- and end-position) of the first match occurrence.\n",
        "\n",
        "The regular expression looks for any words that starts with an upper case \"S\":\n",
        "\n"
      ]
    },
    {
      "cell_type": "code",
      "metadata": {
        "id": "Fd3pjnhKVI-l",
        "colab_type": "code",
        "outputId": "61803f1e-84ca-4b61-8ec7-7ad7ccb63398",
        "colab": {
          "base_uri": "https://localhost:8080/",
          "height": 34
        }
      },
      "source": [
        "import re\n",
        "\n",
        "str = \"The rain in Spain\"\n",
        "x = re.search(r\"\\bS\\w+\", str)\n",
        "print(x.span())"
      ],
      "execution_count": 0,
      "outputs": [
        {
          "output_type": "stream",
          "text": [
            "(12, 17)\n"
          ],
          "name": "stdout"
        }
      ]
    },
    {
      "cell_type": "markdown",
      "metadata": {
        "id": "3iuEWkrbVtP_",
        "colab_type": "text"
      },
      "source": [
        "**Example:**\n",
        "Print the string passed into the function:"
      ]
    },
    {
      "cell_type": "code",
      "metadata": {
        "id": "WWph_rEeVypf",
        "colab_type": "code",
        "outputId": "ccd31c2f-a348-41c6-ae6f-77df0a118adb",
        "colab": {
          "base_uri": "https://localhost:8080/",
          "height": 34
        }
      },
      "source": [
        "import re\n",
        "\n",
        "str = \"The rain in Spain\"\n",
        "x = re.search(r\"\\bS\\w+\", str)\n",
        "print(x.string)"
      ],
      "execution_count": 0,
      "outputs": [
        {
          "output_type": "stream",
          "text": [
            "The rain in Spain\n"
          ],
          "name": "stdout"
        }
      ]
    },
    {
      "cell_type": "markdown",
      "metadata": {
        "id": "x266-WlgWDVe",
        "colab_type": "text"
      },
      "source": [
        "**Example:**\n",
        "Print the part of the string where there was a match.\n",
        "\n",
        "The regular expression looks for any words that starts with an upper case \"S\":"
      ]
    },
    {
      "cell_type": "code",
      "metadata": {
        "id": "o16MF08XWG8E",
        "colab_type": "code",
        "outputId": "d19b7a03-e7c1-4ed9-d943-e6ff4fbb0b63",
        "colab": {
          "base_uri": "https://localhost:8080/",
          "height": 34
        }
      },
      "source": [
        "import re\n",
        "\n",
        "str = \"The rain in Spain\"\n",
        "x = re.search(r\"\\bS\\w+\", str)\n",
        "print(x.group())"
      ],
      "execution_count": 0,
      "outputs": [
        {
          "output_type": "stream",
          "text": [
            "Spain\n"
          ],
          "name": "stdout"
        }
      ]
    },
    {
      "cell_type": "markdown",
      "metadata": {
        "id": "HulzlV9YWL6-",
        "colab_type": "text"
      },
      "source": [
        "**Note: **If there are no match, the value None will be returned, instead of the Match Object."
      ]
    }
  ]
}